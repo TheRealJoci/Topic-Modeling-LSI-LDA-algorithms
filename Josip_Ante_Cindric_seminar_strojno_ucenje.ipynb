{
  "cells": [
    {
      "cell_type": "markdown",
      "metadata": {
        "id": "ex4o29OCoGaB"
      },
      "source": [
        "#Tematski modeli"
      ]
    },
    {
      "cell_type": "markdown",
      "metadata": {
        "id": "Gg3j7uh_oGg3"
      },
      "source": [
        "Seminarski rad\n",
        "\n",
        "Student: Josip Ante Cindrić\n",
        "\n",
        "Studij: Podatkovna znanost i inženjerstvo\n",
        "\n",
        "Kolegiji: Strojno učenje\n",
        "\n",
        "Asistent: Alen Bašić\n",
        "\n",
        "Profesor: Saša Mladenović\n",
        "\n",
        "Split, veljača 2022.\n"
      ]
    },
    {
      "cell_type": "markdown",
      "metadata": {
        "id": "5ozhqZh6oG6W"
      },
      "source": [
        "##Sažetak"
      ]
    },
    {
      "cell_type": "markdown",
      "metadata": {
        "id": "Iy3Itb6aoG8x"
      },
      "source": [
        "U ovome radu analizirat ćemo tematski model, domenu problema koje model rješava te pristupe rješenja problema metodama strojnog učenja. Navedene metode primijenit ćemo na odabranom podatkovnom skupu kako bi riješili predstavljeni problem i pritom iskoristili algoritme strojnog učenja."
      ]
    },
    {
      "cell_type": "markdown",
      "metadata": {
        "id": "srXD3Jv0oG_a"
      },
      "source": [
        "##Uvod"
      ]
    },
    {
      "cell_type": "markdown",
      "metadata": {
        "id": "hGbThSfWoHCH"
      },
      "source": [
        "Tematski model(eng. topic model) je statistički model koji služi za pronalazak apstrahiranih \"tema\" koje se nalaze unutar kolekcije dokumenata. Probabilistički tematski modeli ili samo tematski modeli(eng. topic models) statistički su algoritmi koji pronalaze latentne semantičke strukture unutar tekstualne cjeline. Drugim riječima latentni modeli nam pomažu u organizaciji i razumijevanju velike količine neorganiziranih podataka, generalno teksta.\n",
        "\n",
        "Ovi algoritmi razvijani su prvenstveno kao alat za rudarenje teksta što ove modele svrstava u područje obrade prirodnog jezika, ali se danas isto tako koriste i u područjima genetike, bio informatike, računalnog vida i analize mreža. Gledajući na ove modele kroz prizmu strojnog učenja valjano je klasificirati ih kao tehnike nenadziranog učenja. U području strojnog učenja razlikujemo i metode \"tematske klasifikacije\" koje su oblici nadziranog učenja.\n"
      ]
    },
    {
      "cell_type": "markdown",
      "metadata": {
        "id": "qsstOvqGIPtr"
      },
      "source": [
        "##Teorija tematskih modela"
      ]
    },
    {
      "cell_type": "markdown",
      "metadata": {
        "id": "9MZ39s2HIzGg"
      },
      "source": [
        "Prva tehnika sakupljanja podataka koja je koristila latentne semantičke strukture opisana je i patentirana 1988. godine od strane Deerwestera i suradnika. Iz navedenog istraživanja 1998. godine Papadimitriou i suradnici objavljuju rad pod nazivom \"Latentno semantičko indeksiranje: Probabilistička analiza\"(eng. Latent semantic indexing: A probabilistic analysis) u kojem postavljaju matematičku bazu za do tada empirički uspješnu, ali u striktno matematičkom smislu nerigorozno definiranu tehniku. Objavom tog rada definiran je prvi tematski model iako je tehnika korištena u području sakupljanja podataka unatrag deset godina sa velikim uspjehom. Ovu tehniku nazivamo \"Latentna semantička analiza\" ili \"Latentno semantičko indeksiranje\" tj. skraćeno LSA ili LSI. Ova metoda koristi dekompoziciju po singularnim vrijednostima(eng. Singular value decomposition) ili skraćeno SVD kako bi identificirala veze između riječi sadržane u nestrukturiranom tekstu.\n",
        "\n",
        "Već sljedeće godine Thomas Hofmann objavljuje rad pod nazivom \"Probabilistička latentna semantička analiza\"(eng. Probabilistic Latent Semantic Analysis) u kojem opisuje novu statističku metodu namijenjenu analizi bimodalnih podataka u semantičkoj mreži. Jednostavnije PLSA tj. PLSI je metoda koja je evoluirala iz LSA metode te je pri tome generaliziran pristup problemu uz \"jaču\" bazu u statistici. Za razliku od prijašnje metode PLSI koristi miješanu dekompoziciju deriviranu iz modela latentnih klasa.\n",
        "\n",
        "2002 . godine Blei i suradnici objavljuju do danas vjerojatno najkorišteniji tematski model koji je dakako generalizacija PLSA modela. Latentna Dirichletova alokacija(eng. Latent Dirichlet allocation) je generativna statistička metoda koja objašnjava kako skup promatranih objekata povezuje sličnost među podacima preko latentnih grupa. Na primjer, pretpostavimo da su promatrani objekti riječi u nekom tekstu, LDA tvrdi da je svaki tekst mješavina određenog broja tema i da je prisutnost svake riječi u tekstu dodjeljiva određenoj temi. \n",
        "\n",
        "Alternative LDA metodi su Hijerarhijska analiza latentnih stabala(eng. Hierarchical Latent Tree Analysis) skraćeno HLTA, Nenegativna faktorizacija matrica(eng. Non-negative matrix factorization) skraćeno NMF te Stohastički blok model(eng. Stochastic block model).\n"
      ]
    },
    {
      "cell_type": "markdown",
      "metadata": {
        "id": "EXaLnwbMB2Ms"
      },
      "source": [
        "##O podatkovnom skupu\n"
      ]
    },
    {
      "cell_type": "markdown",
      "metadata": {
        "id": "fe3-LQicMQwJ"
      },
      "source": [
        "Odabrani podatkovni skup kroz dvije datoteke modelira znanstvene radove za koje znamo naslove, sažetak i tematiku pod koje možemo svrstati iste. Dane znanstvene radove možemo svrstati u više tematskih kategorija koje obuhvaćaju:\n",
        "\n",
        "*   Računarstvo(eng. Computer Science)\n",
        "\n",
        "*   Fiziku(eng. Physics)\n",
        "\n",
        "*   Matematiku(eng. Mathematics)\n",
        "\n",
        "*   Statistiku(eng. Statistics)\n",
        "\n",
        "*   Kvantitativnu biologiju(eng. Quantitative Biology)\n",
        "\n",
        "*   Kvantitativne financije(eng. Quantitative Finance)\n",
        "\n",
        "Za potrebe modela koje proučavamo u ovome radu ove kategorije nisu bitne pošto su one target varijable za metode tematske klasifikacije."
      ]
    },
    {
      "cell_type": "markdown",
      "metadata": {
        "id": "AHo2tnv4oHE4"
      },
      "source": [
        "##Eksplorativna analiza podataka"
      ]
    },
    {
      "cell_type": "code",
      "execution_count": null,
      "metadata": {
        "colab": {
          "base_uri": "https://localhost:8080/"
        },
        "id": "iBfbCZfgureU",
        "outputId": "c09b7914-a777-4fe4-ff99-d5a5d334b8b0"
      },
      "outputs": [],
      "source": [
        "from google.colab import drive\n",
        "drive.mount('/content/drive')\n",
        "%cd /content/drive/MyDrive/Colab Notebooks/ML/projekt_topic_model"
      ]
    },
    {
      "cell_type": "code",
      "execution_count": null,
      "metadata": {
        "colab": {
          "base_uri": "https://localhost:8080/"
        },
        "id": "enx5gWtLGQBB",
        "outputId": "02317e42-9b79-4d17-8335-097e9e131aff"
      },
      "outputs": [],
      "source": [
        "!pip install pyLDAvis"
      ]
    },
    {
      "cell_type": "code",
      "execution_count": null,
      "metadata": {
        "colab": {
          "base_uri": "https://localhost:8080/"
        },
        "id": "61FR5kqXvEmN",
        "outputId": "ac61ef37-ac00-4a52-9b63-d2bfd93ca945"
      },
      "outputs": [],
      "source": [
        "import re\n",
        "import pandas as pd\n",
        "import matplotlib.pyplot as plt\n",
        "from collections import defaultdict\n",
        "\n",
        "import nltk\n",
        "\n",
        "nltk.download('stopwords')\n",
        "nltk.download('wordnet')\n",
        "\n",
        "from nltk.tokenize import RegexpTokenizer\n",
        "from nltk.corpus import stopwords\n",
        "from nltk.stem import WordNetLemmatizer\n",
        "\n",
        "import gensim\n",
        "from gensim import corpora\n",
        "from gensim import similarities\n",
        "from gensim import models\n",
        "from gensim.models import LdaModel\n",
        "from gensim.models import LsiModel\n",
        "from gensim.models.coherencemodel import CoherenceModel\n",
        "\n",
        "import pyLDAvis\n",
        "import pyLDAvis.gensim_models"
      ]
    },
    {
      "cell_type": "markdown",
      "metadata": {
        "id": "BIm3uoB_ibRE"
      },
      "source": [
        "Odabrani skup podataka ćemo učitati iz CSV formata u Pandas DataFrame."
      ]
    },
    {
      "cell_type": "code",
      "execution_count": 4,
      "metadata": {
        "id": "GGtI1zwtu91N"
      },
      "outputs": [],
      "source": [
        "articles_train = pd.read_csv('train.csv')\n",
        "articles_test = pd.read_csv('test.csv')"
      ]
    },
    {
      "cell_type": "markdown",
      "metadata": {
        "id": "PISpfNKkimO6"
      },
      "source": [
        "Nakon što smo podatke učitali valja pogledati s kakvim podacima raspolažemo."
      ]
    },
    {
      "cell_type": "code",
      "execution_count": 5,
      "metadata": {
        "colab": {
          "base_uri": "https://localhost:8080/"
        },
        "id": "pDohQ-DLvhsx",
        "outputId": "46414b09-f69b-46c3-8e35-b2ec130a077d"
      },
      "outputs": [
        {
          "name": "stdout",
          "output_type": "stream",
          "text": [
            "<class 'pandas.core.frame.DataFrame'>\n",
            "RangeIndex: 20972 entries, 0 to 20971\n",
            "Data columns (total 9 columns):\n",
            " #   Column                Non-Null Count  Dtype \n",
            "---  ------                --------------  ----- \n",
            " 0   ID                    20972 non-null  int64 \n",
            " 1   TITLE                 20972 non-null  object\n",
            " 2   ABSTRACT              20972 non-null  object\n",
            " 3   Computer Science      20972 non-null  int64 \n",
            " 4   Physics               20972 non-null  int64 \n",
            " 5   Mathematics           20972 non-null  int64 \n",
            " 6   Statistics            20972 non-null  int64 \n",
            " 7   Quantitative Biology  20972 non-null  int64 \n",
            " 8   Quantitative Finance  20972 non-null  int64 \n",
            "dtypes: int64(7), object(2)\n",
            "memory usage: 1.4+ MB\n"
          ]
        }
      ],
      "source": [
        "articles_train.info()"
      ]
    },
    {
      "cell_type": "markdown",
      "metadata": {
        "id": "hVdFi1CPi0tp"
      },
      "source": [
        " Članaka ukupno ima 20972 od koji svi imaju:\n",
        "*   \"ID\" u ulozi jedinstvenog identifikatora\n",
        "*   \"TITLE\" odnosno naslov znanstvenog rada\n",
        "*   \"ABSTRACT\" tj. sažetak znanstvenog rada\n",
        "*   ostale stupce koji definiraju tematiku znanstvenog rada - ciljane varijable(eng. target variable)\n",
        "\n",
        "Target varijable smo slobodni ukloniti iz skupa podataka.\n"
      ]
    },
    {
      "cell_type": "code",
      "execution_count": 6,
      "metadata": {
        "colab": {
          "base_uri": "https://localhost:8080/"
        },
        "id": "OLyhP8STiVmy",
        "outputId": "32f7fc78-ceb4-46d3-d381-fe1481f222d8"
      },
      "outputs": [
        {
          "name": "stdout",
          "output_type": "stream",
          "text": [
            "<class 'pandas.core.frame.DataFrame'>\n",
            "RangeIndex: 8989 entries, 0 to 8988\n",
            "Data columns (total 3 columns):\n",
            " #   Column    Non-Null Count  Dtype \n",
            "---  ------    --------------  ----- \n",
            " 0   ID        8989 non-null   int64 \n",
            " 1   TITLE     8989 non-null   object\n",
            " 2   ABSTRACT  8989 non-null   object\n",
            "dtypes: int64(1), object(2)\n",
            "memory usage: 210.8+ KB\n"
          ]
        }
      ],
      "source": [
        "articles_test.info()"
      ]
    },
    {
      "cell_type": "markdown",
      "metadata": {
        "id": "Q5Z5dEJJnAEl"
      },
      "source": [
        "Kao što možemo vidjeti test datoteka je drugačije koncipirana od train datoteke time što su podaci o tematici pohranjenih radova izostavljeni. Ova činjenica  ovu datoteku čini neiskoristivom za algoritme klasifikacije pošto nemamo na čemu ocijeniti izlaz treniranog modela tj. nemamo target varijablu. Nakon što uklonimo target varijable iz prve tablice možemo ih samo spojiti.\n",
        "\n",
        "Podatkovni skup je jednostavno optimiziran u DataFrame zapisu pravilno dodijeljenim tipovima podataka stupcima. Dodatna optimizacija algoritma može se postići indeksiranjem po \"ID\" stupcu te kreiranjem sparse matrice radi stupaca koji označavaju tematiku radova za slučaj klasifikacije.\n",
        "\n",
        "Nakon što smo sagledali kojim podacima raspolažemo možemo ih prikazati u tabličnom obliku kako bi dobili bolji osjećaj za tip podataka s kojim raspolažemo.\n"
      ]
    },
    {
      "cell_type": "code",
      "execution_count": 7,
      "metadata": {
        "colab": {
          "base_uri": "https://localhost:8080/",
          "height": 493
        },
        "id": "_PgrFUfkvXEh",
        "outputId": "c95fb8f6-c78f-4427-b10e-a8806888f47d"
      },
      "outputs": [
        {
          "data": {
            "text/html": [
              "\n",
              "  <div id=\"df-54e28042-7aa4-4bf9-ac34-cb3dc0d011ad\">\n",
              "    <div class=\"colab-df-container\">\n",
              "      <div>\n",
              "<style scoped>\n",
              "    .dataframe tbody tr th:only-of-type {\n",
              "        vertical-align: middle;\n",
              "    }\n",
              "\n",
              "    .dataframe tbody tr th {\n",
              "        vertical-align: top;\n",
              "    }\n",
              "\n",
              "    .dataframe thead th {\n",
              "        text-align: right;\n",
              "    }\n",
              "</style>\n",
              "<table border=\"1\" class=\"dataframe\">\n",
              "  <thead>\n",
              "    <tr style=\"text-align: right;\">\n",
              "      <th></th>\n",
              "      <th>ID</th>\n",
              "      <th>TITLE</th>\n",
              "      <th>ABSTRACT</th>\n",
              "      <th>Computer Science</th>\n",
              "      <th>Physics</th>\n",
              "      <th>Mathematics</th>\n",
              "      <th>Statistics</th>\n",
              "      <th>Quantitative Biology</th>\n",
              "      <th>Quantitative Finance</th>\n",
              "    </tr>\n",
              "  </thead>\n",
              "  <tbody>\n",
              "    <tr>\n",
              "      <th>0</th>\n",
              "      <td>1</td>\n",
              "      <td>Reconstructing Subject-Specific Effect Maps</td>\n",
              "      <td>Predictive models allow subject-specific inf...</td>\n",
              "      <td>1</td>\n",
              "      <td>0</td>\n",
              "      <td>0</td>\n",
              "      <td>0</td>\n",
              "      <td>0</td>\n",
              "      <td>0</td>\n",
              "    </tr>\n",
              "    <tr>\n",
              "      <th>1</th>\n",
              "      <td>2</td>\n",
              "      <td>Rotation Invariance Neural Network</td>\n",
              "      <td>Rotation invariance and translation invarian...</td>\n",
              "      <td>1</td>\n",
              "      <td>0</td>\n",
              "      <td>0</td>\n",
              "      <td>0</td>\n",
              "      <td>0</td>\n",
              "      <td>0</td>\n",
              "    </tr>\n",
              "    <tr>\n",
              "      <th>2</th>\n",
              "      <td>3</td>\n",
              "      <td>Spherical polyharmonics and Poisson kernels fo...</td>\n",
              "      <td>We introduce and develop the notion of spher...</td>\n",
              "      <td>0</td>\n",
              "      <td>0</td>\n",
              "      <td>1</td>\n",
              "      <td>0</td>\n",
              "      <td>0</td>\n",
              "      <td>0</td>\n",
              "    </tr>\n",
              "    <tr>\n",
              "      <th>3</th>\n",
              "      <td>4</td>\n",
              "      <td>A finite element approximation for the stochas...</td>\n",
              "      <td>The stochastic Landau--Lifshitz--Gilbert (LL...</td>\n",
              "      <td>0</td>\n",
              "      <td>0</td>\n",
              "      <td>1</td>\n",
              "      <td>0</td>\n",
              "      <td>0</td>\n",
              "      <td>0</td>\n",
              "    </tr>\n",
              "    <tr>\n",
              "      <th>4</th>\n",
              "      <td>5</td>\n",
              "      <td>Comparative study of Discrete Wavelet Transfor...</td>\n",
              "      <td>Fourier-transform infra-red (FTIR) spectra o...</td>\n",
              "      <td>1</td>\n",
              "      <td>0</td>\n",
              "      <td>0</td>\n",
              "      <td>1</td>\n",
              "      <td>0</td>\n",
              "      <td>0</td>\n",
              "    </tr>\n",
              "  </tbody>\n",
              "</table>\n",
              "</div>\n",
              "      <button class=\"colab-df-convert\" onclick=\"convertToInteractive('df-54e28042-7aa4-4bf9-ac34-cb3dc0d011ad')\"\n",
              "              title=\"Convert this dataframe to an interactive table.\"\n",
              "              style=\"display:none;\">\n",
              "        \n",
              "  <svg xmlns=\"http://www.w3.org/2000/svg\" height=\"24px\"viewBox=\"0 0 24 24\"\n",
              "       width=\"24px\">\n",
              "    <path d=\"M0 0h24v24H0V0z\" fill=\"none\"/>\n",
              "    <path d=\"M18.56 5.44l.94 2.06.94-2.06 2.06-.94-2.06-.94-.94-2.06-.94 2.06-2.06.94zm-11 1L8.5 8.5l.94-2.06 2.06-.94-2.06-.94L8.5 2.5l-.94 2.06-2.06.94zm10 10l.94 2.06.94-2.06 2.06-.94-2.06-.94-.94-2.06-.94 2.06-2.06.94z\"/><path d=\"M17.41 7.96l-1.37-1.37c-.4-.4-.92-.59-1.43-.59-.52 0-1.04.2-1.43.59L10.3 9.45l-7.72 7.72c-.78.78-.78 2.05 0 2.83L4 21.41c.39.39.9.59 1.41.59.51 0 1.02-.2 1.41-.59l7.78-7.78 2.81-2.81c.8-.78.8-2.07 0-2.86zM5.41 20L4 18.59l7.72-7.72 1.47 1.35L5.41 20z\"/>\n",
              "  </svg>\n",
              "      </button>\n",
              "      \n",
              "  <style>\n",
              "    .colab-df-container {\n",
              "      display:flex;\n",
              "      flex-wrap:wrap;\n",
              "      gap: 12px;\n",
              "    }\n",
              "\n",
              "    .colab-df-convert {\n",
              "      background-color: #E8F0FE;\n",
              "      border: none;\n",
              "      border-radius: 50%;\n",
              "      cursor: pointer;\n",
              "      display: none;\n",
              "      fill: #1967D2;\n",
              "      height: 32px;\n",
              "      padding: 0 0 0 0;\n",
              "      width: 32px;\n",
              "    }\n",
              "\n",
              "    .colab-df-convert:hover {\n",
              "      background-color: #E2EBFA;\n",
              "      box-shadow: 0px 1px 2px rgba(60, 64, 67, 0.3), 0px 1px 3px 1px rgba(60, 64, 67, 0.15);\n",
              "      fill: #174EA6;\n",
              "    }\n",
              "\n",
              "    [theme=dark] .colab-df-convert {\n",
              "      background-color: #3B4455;\n",
              "      fill: #D2E3FC;\n",
              "    }\n",
              "\n",
              "    [theme=dark] .colab-df-convert:hover {\n",
              "      background-color: #434B5C;\n",
              "      box-shadow: 0px 1px 3px 1px rgba(0, 0, 0, 0.15);\n",
              "      filter: drop-shadow(0px 1px 2px rgba(0, 0, 0, 0.3));\n",
              "      fill: #FFFFFF;\n",
              "    }\n",
              "  </style>\n",
              "\n",
              "      <script>\n",
              "        const buttonEl =\n",
              "          document.querySelector('#df-54e28042-7aa4-4bf9-ac34-cb3dc0d011ad button.colab-df-convert');\n",
              "        buttonEl.style.display =\n",
              "          google.colab.kernel.accessAllowed ? 'block' : 'none';\n",
              "\n",
              "        async function convertToInteractive(key) {\n",
              "          const element = document.querySelector('#df-54e28042-7aa4-4bf9-ac34-cb3dc0d011ad');\n",
              "          const dataTable =\n",
              "            await google.colab.kernel.invokeFunction('convertToInteractive',\n",
              "                                                     [key], {});\n",
              "          if (!dataTable) return;\n",
              "\n",
              "          const docLinkHtml = 'Like what you see? Visit the ' +\n",
              "            '<a target=\"_blank\" href=https://colab.research.google.com/notebooks/data_table.ipynb>data table notebook</a>'\n",
              "            + ' to learn more about interactive tables.';\n",
              "          element.innerHTML = '';\n",
              "          dataTable['output_type'] = 'display_data';\n",
              "          await google.colab.output.renderOutput(dataTable, element);\n",
              "          const docLink = document.createElement('div');\n",
              "          docLink.innerHTML = docLinkHtml;\n",
              "          element.appendChild(docLink);\n",
              "        }\n",
              "      </script>\n",
              "    </div>\n",
              "  </div>\n",
              "  "
            ],
            "text/plain": [
              "   ID  ... Quantitative Finance\n",
              "0   1  ...                    0\n",
              "1   2  ...                    0\n",
              "2   3  ...                    0\n",
              "3   4  ...                    0\n",
              "4   5  ...                    0\n",
              "\n",
              "[5 rows x 9 columns]"
            ]
          },
          "execution_count": 7,
          "metadata": {},
          "output_type": "execute_result"
        }
      ],
      "source": [
        "articles_train.head()"
      ]
    },
    {
      "cell_type": "markdown",
      "metadata": {
        "id": "LQM9RO9rl55j"
      },
      "source": [
        "Kako smo već spomenuli optimizaciju indeksiranja tablice po \"ID\" stupcu ovakvim prikazom vidimo da je sam stupac efektivno nepotreban pošto je index isti niz preslikan linearnom funkcijom $f(x)=x+1$ tako da stupac \"ID\" možemo jednostavno ukloniti.\n",
        "\n",
        "Radi konvencija zapisa varijabli u Pythonu preimenovati ćemo preostale stupce te samu tablicu."
      ]
    },
    {
      "cell_type": "code",
      "execution_count": 8,
      "metadata": {
        "id": "meTtypD_nzOp"
      },
      "outputs": [],
      "source": [
        "articles_train.drop(labels=['ID'], axis=1, inplace=True)\n",
        "articles_test.drop(labels=['ID'], axis=1, inplace=True)"
      ]
    },
    {
      "cell_type": "markdown",
      "metadata": {
        "id": "a8pTjqkQq4Eh"
      },
      "source": [
        "Uređenjem tablice spremni smo vizualizirati podatke koje imamo."
      ]
    },
    {
      "cell_type": "code",
      "execution_count": 9,
      "metadata": {
        "colab": {
          "base_uri": "https://localhost:8080/"
        },
        "id": "1tdVxh3UrzKK",
        "outputId": "cbc09b85-33b4-4399-e785-4dbfe8e335d0"
      },
      "outputs": [
        {
          "data": {
            "text/plain": [
              "Computer Science        8594\n",
              "Physics                 6013\n",
              "Mathematics             5618\n",
              "Statistics              5206\n",
              "Quantitative Biology     587\n",
              "Quantitative Finance     249\n",
              "dtype: int64"
            ]
          },
          "execution_count": 9,
          "metadata": {},
          "output_type": "execute_result"
        }
      ],
      "source": [
        "articles_train.iloc[:,2:].sum()"
      ]
    },
    {
      "cell_type": "code",
      "execution_count": 10,
      "metadata": {
        "colab": {
          "base_uri": "https://localhost:8080/",
          "height": 376
        },
        "id": "dfDG3giUpABm",
        "outputId": "154c19e0-2f7a-43b2-99a2-2f387a283ecf"
      },
      "outputs": [
        {
          "data": {
            "text/plain": [
              "<matplotlib.axes._subplots.AxesSubplot at 0x7fa2d963a110>"
            ]
          },
          "execution_count": 10,
          "metadata": {},
          "output_type": "execute_result"
        },
        {
          "data": {
            "image/png": "[encoded data removed]",
            "text/plain": [
              "<Figure size 432x288 with 1 Axes>"
            ]
          },
          "metadata": {
            "needs_background": "light"
          },
          "output_type": "display_data"
        }
      ],
      "source": [
        "articles_train.iloc[:,2:].sum().plot(kind='bar')"
      ]
    },
    {
      "cell_type": "markdown",
      "metadata": {
        "id": "b6vjnW4HrucI"
      },
      "source": [
        "Kao što vidimo u uzorku se nalazi relativno malo članaka kvantitativne biologije i kvantitativnih financija dok su članci preostalih tematskih klasa poprilično zastupljeni u uzorku. Bitno je naglasiti kako članak može spadati u više tematskih kategorija."
      ]
    },
    {
      "cell_type": "code",
      "execution_count": 11,
      "metadata": {
        "colab": {
          "base_uri": "https://localhost:8080/",
          "height": 423
        },
        "id": "3n1hH0yDy9Ie",
        "outputId": "eeabb57b-b27b-4dd4-afb1-6427c4b39ae5"
      },
      "outputs": [
        {
          "data": {
            "text/html": [
              "\n",
              "  <div id=\"df-3bff8e89-3439-4d11-b04e-5506aa38147b\">\n",
              "    <div class=\"colab-df-container\">\n",
              "      <div>\n",
              "<style scoped>\n",
              "    .dataframe tbody tr th:only-of-type {\n",
              "        vertical-align: middle;\n",
              "    }\n",
              "\n",
              "    .dataframe tbody tr th {\n",
              "        vertical-align: top;\n",
              "    }\n",
              "\n",
              "    .dataframe thead th {\n",
              "        text-align: right;\n",
              "    }\n",
              "</style>\n",
              "<table border=\"1\" class=\"dataframe\">\n",
              "  <thead>\n",
              "    <tr style=\"text-align: right;\">\n",
              "      <th></th>\n",
              "      <th>title</th>\n",
              "      <th>abstract</th>\n",
              "    </tr>\n",
              "  </thead>\n",
              "  <tbody>\n",
              "    <tr>\n",
              "      <th>0</th>\n",
              "      <td>Reconstructing Subject-Specific Effect Maps</td>\n",
              "      <td>Predictive models allow subject-specific inf...</td>\n",
              "    </tr>\n",
              "    <tr>\n",
              "      <th>1</th>\n",
              "      <td>Rotation Invariance Neural Network</td>\n",
              "      <td>Rotation invariance and translation invarian...</td>\n",
              "    </tr>\n",
              "    <tr>\n",
              "      <th>2</th>\n",
              "      <td>Spherical polyharmonics and Poisson kernels fo...</td>\n",
              "      <td>We introduce and develop the notion of spher...</td>\n",
              "    </tr>\n",
              "    <tr>\n",
              "      <th>3</th>\n",
              "      <td>A finite element approximation for the stochas...</td>\n",
              "      <td>The stochastic Landau--Lifshitz--Gilbert (LL...</td>\n",
              "    </tr>\n",
              "    <tr>\n",
              "      <th>4</th>\n",
              "      <td>Comparative study of Discrete Wavelet Transfor...</td>\n",
              "      <td>Fourier-transform infra-red (FTIR) spectra o...</td>\n",
              "    </tr>\n",
              "    <tr>\n",
              "      <th>...</th>\n",
              "      <td>...</td>\n",
              "      <td>...</td>\n",
              "    </tr>\n",
              "    <tr>\n",
              "      <th>8984</th>\n",
              "      <td>Supporting mixed-datatype matrix multiplicatio...</td>\n",
              "      <td>We approach the problem of implementing mixe...</td>\n",
              "    </tr>\n",
              "    <tr>\n",
              "      <th>8985</th>\n",
              "      <td>An axiomatic basis for Blackwell optimality</td>\n",
              "      <td>In the theory of Markov decision processes (...</td>\n",
              "    </tr>\n",
              "    <tr>\n",
              "      <th>8986</th>\n",
              "      <td>GeneVis - An interactive visualization tool fo...</td>\n",
              "      <td>GeneVis is a web-based tool to visualize com...</td>\n",
              "    </tr>\n",
              "    <tr>\n",
              "      <th>8987</th>\n",
              "      <td>Quantifying the causal effect of speed cameras...</td>\n",
              "      <td>This paper quantifies the effect of speed ca...</td>\n",
              "    </tr>\n",
              "    <tr>\n",
              "      <th>8988</th>\n",
              "      <td>Cube-magic labelings of grids</td>\n",
              "      <td>We show that the vertices and edges of a $d$...</td>\n",
              "    </tr>\n",
              "  </tbody>\n",
              "</table>\n",
              "<p>29961 rows × 2 columns</p>\n",
              "</div>\n",
              "      <button class=\"colab-df-convert\" onclick=\"convertToInteractive('df-3bff8e89-3439-4d11-b04e-5506aa38147b')\"\n",
              "              title=\"Convert this dataframe to an interactive table.\"\n",
              "              style=\"display:none;\">\n",
              "        \n",
              "  <svg xmlns=\"http://www.w3.org/2000/svg\" height=\"24px\"viewBox=\"0 0 24 24\"\n",
              "       width=\"24px\">\n",
              "    <path d=\"M0 0h24v24H0V0z\" fill=\"none\"/>\n",
              "    <path d=\"M18.56 5.44l.94 2.06.94-2.06 2.06-.94-2.06-.94-.94-2.06-.94 2.06-2.06.94zm-11 1L8.5 8.5l.94-2.06 2.06-.94-2.06-.94L8.5 2.5l-.94 2.06-2.06.94zm10 10l.94 2.06.94-2.06 2.06-.94-2.06-.94-.94-2.06-.94 2.06-2.06.94z\"/><path d=\"M17.41 7.96l-1.37-1.37c-.4-.4-.92-.59-1.43-.59-.52 0-1.04.2-1.43.59L10.3 9.45l-7.72 7.72c-.78.78-.78 2.05 0 2.83L4 21.41c.39.39.9.59 1.41.59.51 0 1.02-.2 1.41-.59l7.78-7.78 2.81-2.81c.8-.78.8-2.07 0-2.86zM5.41 20L4 18.59l7.72-7.72 1.47 1.35L5.41 20z\"/>\n",
              "  </svg>\n",
              "      </button>\n",
              "      \n",
              "  <style>\n",
              "    .colab-df-container {\n",
              "      display:flex;\n",
              "      flex-wrap:wrap;\n",
              "      gap: 12px;\n",
              "    }\n",
              "\n",
              "    .colab-df-convert {\n",
              "      background-color: #E8F0FE;\n",
              "      border: none;\n",
              "      border-radius: 50%;\n",
              "      cursor: pointer;\n",
              "      display: none;\n",
              "      fill: #1967D2;\n",
              "      height: 32px;\n",
              "      padding: 0 0 0 0;\n",
              "      width: 32px;\n",
              "    }\n",
              "\n",
              "    .colab-df-convert:hover {\n",
              "      background-color: #E2EBFA;\n",
              "      box-shadow: 0px 1px 2px rgba(60, 64, 67, 0.3), 0px 1px 3px 1px rgba(60, 64, 67, 0.15);\n",
              "      fill: #174EA6;\n",
              "    }\n",
              "\n",
              "    [theme=dark] .colab-df-convert {\n",
              "      background-color: #3B4455;\n",
              "      fill: #D2E3FC;\n",
              "    }\n",
              "\n",
              "    [theme=dark] .colab-df-convert:hover {\n",
              "      background-color: #434B5C;\n",
              "      box-shadow: 0px 1px 3px 1px rgba(0, 0, 0, 0.15);\n",
              "      filter: drop-shadow(0px 1px 2px rgba(0, 0, 0, 0.3));\n",
              "      fill: #FFFFFF;\n",
              "    }\n",
              "  </style>\n",
              "\n",
              "      <script>\n",
              "        const buttonEl =\n",
              "          document.querySelector('#df-3bff8e89-3439-4d11-b04e-5506aa38147b button.colab-df-convert');\n",
              "        buttonEl.style.display =\n",
              "          google.colab.kernel.accessAllowed ? 'block' : 'none';\n",
              "\n",
              "        async function convertToInteractive(key) {\n",
              "          const element = document.querySelector('#df-3bff8e89-3439-4d11-b04e-5506aa38147b');\n",
              "          const dataTable =\n",
              "            await google.colab.kernel.invokeFunction('convertToInteractive',\n",
              "                                                     [key], {});\n",
              "          if (!dataTable) return;\n",
              "\n",
              "          const docLinkHtml = 'Like what you see? Visit the ' +\n",
              "            '<a target=\"_blank\" href=https://colab.research.google.com/notebooks/data_table.ipynb>data table notebook</a>'\n",
              "            + ' to learn more about interactive tables.';\n",
              "          element.innerHTML = '';\n",
              "          dataTable['output_type'] = 'display_data';\n",
              "          await google.colab.output.renderOutput(dataTable, element);\n",
              "          const docLink = document.createElement('div');\n",
              "          docLink.innerHTML = docLinkHtml;\n",
              "          element.appendChild(docLink);\n",
              "        }\n",
              "      </script>\n",
              "    </div>\n",
              "  </div>\n",
              "  "
            ],
            "text/plain": [
              "                                                  title                                           abstract\n",
              "0           Reconstructing Subject-Specific Effect Maps    Predictive models allow subject-specific inf...\n",
              "1                    Rotation Invariance Neural Network    Rotation invariance and translation invarian...\n",
              "2     Spherical polyharmonics and Poisson kernels fo...    We introduce and develop the notion of spher...\n",
              "3     A finite element approximation for the stochas...    The stochastic Landau--Lifshitz--Gilbert (LL...\n",
              "4     Comparative study of Discrete Wavelet Transfor...    Fourier-transform infra-red (FTIR) spectra o...\n",
              "...                                                 ...                                                ...\n",
              "8984  Supporting mixed-datatype matrix multiplicatio...    We approach the problem of implementing mixe...\n",
              "8985        An axiomatic basis for Blackwell optimality    In the theory of Markov decision processes (...\n",
              "8986  GeneVis - An interactive visualization tool fo...    GeneVis is a web-based tool to visualize com...\n",
              "8987  Quantifying the causal effect of speed cameras...    This paper quantifies the effect of speed ca...\n",
              "8988                      Cube-magic labelings of grids    We show that the vertices and edges of a $d$...\n",
              "\n",
              "[29961 rows x 2 columns]"
            ]
          },
          "execution_count": 11,
          "metadata": {},
          "output_type": "execute_result"
        }
      ],
      "source": [
        "articles = pd.concat([articles_train.iloc[:,:2], articles_test])\n",
        "articles.columns = ['title', 'abstract']\n",
        "articles"
      ]
    },
    {
      "cell_type": "markdown",
      "metadata": {
        "id": "Xoyt1mp8PT8h"
      },
      "source": [
        "##Primjena tematskih modela"
      ]
    },
    {
      "cell_type": "markdown",
      "metadata": {
        "id": "KmzvG_i9_x6W"
      },
      "source": [
        "Na prikazanom podatkovnom skupu prikazat ćemo LSI i LDA koristeći implementacije iz \"Gensim\" modula. Genism modul je najspecijaliziranija Python biblioteka za tematske modele sa optimiziranim implementacija većine relevantnih algoritama u području tematskog modeliranja.\n",
        "\n",
        "Osnovni koncepti na kojima je zasnovan Gensim su:\n",
        "*   Dokument: tekstualni zapis(\"str\" podatak u Pythonu 3)\n",
        "*   Korpus: kolekcija dokumenata\n",
        "*   Vektor: matematička reprezentacija dokumenta\n",
        "*   Model: algoritam koji mijenjaju reprezentacije vektora"
      ]
    },
    {
      "cell_type": "markdown",
      "metadata": {
        "id": "dlil-lbJ9XRa"
      },
      "source": [
        "###Dokument"
      ]
    },
    {
      "cell_type": "markdown",
      "metadata": {
        "id": "TWA8zLHi9ZZ7"
      },
      "source": [
        "Dokument možemo reprezentirati kako god želimo za potrebe modela, od jedne rečenice do cijele knjige."
      ]
    },
    {
      "cell_type": "code",
      "execution_count": 12,
      "metadata": {
        "colab": {
          "base_uri": "https://localhost:8080/",
          "height": 35
        },
        "id": "tQLFbTxV9ToF",
        "outputId": "a5f99f52-a23c-419c-d2b2-c397b63698a6"
      },
      "outputs": [
        {
          "data": {
            "application/vnd.google.colaboratory.intrinsic+json": {
              "type": "string"
            },
            "text/plain": [
              "'Human machine interface for lab abc computer applications'"
            ]
          },
          "execution_count": 12,
          "metadata": {},
          "output_type": "execute_result"
        }
      ],
      "source": [
        "document = \"Human machine interface for lab abc computer applications\"\n",
        "document"
      ]
    },
    {
      "cell_type": "markdown",
      "metadata": {
        "id": "IQJts5U6-OnA"
      },
      "source": [
        "###Korpus"
      ]
    },
    {
      "cell_type": "markdown",
      "metadata": {
        "id": "sPjJ-2GI-RKR"
      },
      "source": [
        "Korpus(eng. corpus, pl. corpora) je jednostavno kolekcija dokumenata. Po funkciji korpuse dijelimo na:\n",
        "\n",
        "*   Ulazne objekte za treniranje modela\n",
        "*   Objekte na kojima koristimo trenirani model\n",
        "\n",
        "u sljedećem primjeru vidimo korpus od 9 dokumenata što je izrazito maleno za standarde obje navedene klasifikacije.\n"
      ]
    },
    {
      "cell_type": "code",
      "execution_count": 13,
      "metadata": {
        "colab": {
          "base_uri": "https://localhost:8080/"
        },
        "id": "Qmp7ymObA53G",
        "outputId": "0d426e48-f444-41a9-aa58-312a22136567"
      },
      "outputs": [
        {
          "data": {
            "text/plain": [
              "['Human machine interface for lab abc computer applications',\n",
              " 'A survey of user opinion of computer system response time',\n",
              " 'The EPS user interface management system',\n",
              " 'System and human system engineering testing of EPS',\n",
              " 'Relation of user perceived response time to error measurement',\n",
              " 'The generation of random binary unordered trees',\n",
              " 'The intersection graph of paths in trees',\n",
              " 'Graph minors IV Widths of trees and well quasi ordering',\n",
              " 'Graph minors A survey']"
            ]
          },
          "execution_count": 13,
          "metadata": {},
          "output_type": "execute_result"
        }
      ],
      "source": [
        "corpus = [\n",
        "    \"Human machine interface for lab abc computer applications\",\n",
        "    \"A survey of user opinion of computer system response time\",\n",
        "    \"The EPS user interface management system\",\n",
        "    \"System and human system engineering testing of EPS\",\n",
        "    \"Relation of user perceived response time to error measurement\",\n",
        "    \"The generation of random binary unordered trees\",\n",
        "    \"The intersection graph of paths in trees\",\n",
        "    \"Graph minors IV Widths of trees and well quasi ordering\",\n",
        "    \"Graph minors A survey\",\n",
        "]\n",
        "\n",
        "corpus"
      ]
    },
    {
      "cell_type": "markdown",
      "metadata": {
        "id": "NDYBl9IEiyhm"
      },
      "source": [
        "###Prilagodbena obrada podataka"
      ]
    },
    {
      "cell_type": "markdown",
      "metadata": {
        "id": "XAEQC3A_jgpK"
      },
      "source": [
        "Prilagodbena obrada korpusa bitna je stavka treniranja svakog modela pošto želimo prilagoditi podatke matematičkim algoritmima za efikasniju obradu. Postoje brojne metode koje se primjenjuju u prilagodbenoj obradi teksta koje ćemo detaljnije obraditi u kasnijim poglavljima.\n",
        "\n",
        "U svrhu prikazivanja jednostavne obrade prikazat ćemo jednostavnu tokenizaciju korpusa te kreiranje rječnika.\n",
        "\n",
        "Ideja tokenizacije je jednostavno rastavljanje teksta na riječi tj. tokene. Prije nego to učinimo definiramo skup riječi koje ne želimo indeksirati. Te riječi nazivamo stop riječima(eng. stop words) te ih definiramo ovisno o jeziku kojeg analiziramo. Specifično za engleski jezik mnoge riječi poput \"the\", \"of\" ili \"and\" možemo definirati kao semantički neutralne sa većinski gramatičkom svrhom. Evidentno je da radi navedenog svojstva one nisu potrebne u semantičkoj analizi.\n"
      ]
    },
    {
      "cell_type": "code",
      "execution_count": 14,
      "metadata": {
        "colab": {
          "base_uri": "https://localhost:8080/"
        },
        "id": "sYva4XjElINU",
        "outputId": "22995b7e-3ab7-4721-fa61-6574cb745f97"
      },
      "outputs": [
        {
          "data": {
            "text/plain": [
              "[['human', 'machine', 'interface', 'lab', 'abc', 'computer', 'applications'],\n",
              " ['survey', 'user', 'opinion', 'computer', 'system', 'response', 'time'],\n",
              " ['eps', 'user', 'interface', 'management', 'system'],\n",
              " ['system', 'human', 'system', 'engineering', 'testing', 'eps'],\n",
              " ['relation', 'user', 'perceived', 'response', 'time', 'error', 'measurement'],\n",
              " ['generation', 'random', 'binary', 'unordered', 'trees'],\n",
              " ['intersection', 'graph', 'paths', 'trees'],\n",
              " ['graph', 'minors', 'iv', 'widths', 'trees', 'well', 'quasi', 'ordering'],\n",
              " ['graph', 'minors', 'survey']]"
            ]
          },
          "execution_count": 14,
          "metadata": {},
          "output_type": "execute_result"
        }
      ],
      "source": [
        "stopwords = set('for a of the and to in'.split(' '))\n",
        "processed_corpus = [[word for word in document.lower().split() if word not in stopwords] for document in corpus]\n",
        "\n",
        "processed_corpus"
      ]
    },
    {
      "cell_type": "markdown",
      "metadata": {
        "id": "bEtmx-seoaI-"
      },
      "source": [
        "Kao što možemo vidjeti dobili smo tokeniziran korpus, svaki dokument u korpusu više nije jedna tekstualna instanca već je kolekcija istih.\n",
        "\n",
        "Sa ovakvom tokenizacijom bi potencijalno mogli završiti prilagodbenu obradu, ali možemo primijeniti još jednu metodu kako bi poboljšali rezultate algoritma, a ta metoda je filtriranje tokena unutar dokumenata po količini pojavljivanja unutar korpusa. Na taj način donekle možemo osigurati relevantnost tokena koje dajemo modelu na analizu. U protivnom, model bi efektivno bio zagušen nepotrebnim podacima tj. slikovito kao da čovjek traži iglu u plastu sijena.\n"
      ]
    },
    {
      "cell_type": "code",
      "execution_count": 15,
      "metadata": {
        "colab": {
          "base_uri": "https://localhost:8080/"
        },
        "id": "dmgQwDdcRgrE",
        "outputId": "c6b6bc93-b80e-4a2f-db02-639c3934291b"
      },
      "outputs": [
        {
          "data": {
            "text/plain": [
              "[['human', 'interface', 'computer'],\n",
              " ['survey', 'user', 'computer', 'system', 'response', 'time'],\n",
              " ['eps', 'user', 'interface', 'system'],\n",
              " ['system', 'human', 'system', 'eps'],\n",
              " ['user', 'response', 'time'],\n",
              " ['trees'],\n",
              " ['graph', 'trees'],\n",
              " ['graph', 'minors', 'trees'],\n",
              " ['graph', 'minors', 'survey']]"
            ]
          },
          "execution_count": 15,
          "metadata": {},
          "output_type": "execute_result"
        }
      ],
      "source": [
        "filter_threshold = 1\n",
        "frequency = defaultdict(int)\n",
        "\n",
        "for text in processed_corpus:\n",
        "    for token in text:\n",
        "        frequency[token] += 1\n",
        "\n",
        "processed_corpus = [[token for token in text if frequency[token] > filter_threshold] for text in processed_corpus]\n",
        "processed_corpus"
      ]
    },
    {
      "cell_type": "markdown",
      "metadata": {
        "id": "kGBhLbB7TDrK"
      },
      "source": [
        "Vidimo da se ovaj tokenizirani korpus sadržava manje tokena od prošloga što smo i očekivali. Jedino što nam ostaje je kreirati rječnik za naš korpus koji definira sve riječi koje naš korpus sadrži."
      ]
    },
    {
      "cell_type": "code",
      "execution_count": 16,
      "metadata": {
        "colab": {
          "base_uri": "https://localhost:8080/"
        },
        "id": "aqbAKJEgTPGs",
        "outputId": "af6e1834-59f2-4679-b09f-a5d448f9c0b5"
      },
      "outputs": [
        {
          "name": "stdout",
          "output_type": "stream",
          "text": [
            "Dictionary(12 unique tokens: ['computer', 'human', 'interface', 'response', 'survey']...)\n"
          ]
        }
      ],
      "source": [
        "dictionary = corpora.Dictionary(processed_corpus)\n",
        "print(dictionary)"
      ]
    },
    {
      "cell_type": "markdown",
      "metadata": {
        "id": "EqfKvfwGCfmQ"
      },
      "source": [
        "###Vektor"
      ]
    },
    {
      "cell_type": "markdown",
      "metadata": {
        "id": "YrRtYXuLCjPM"
      },
      "source": [
        "Kako bi matematički izveli latentnu strukturu promatranog korpusa trebamo matematički prikazati dokumente u korpusu kako bi njima mogli upravljati. U praksi se mogu pronaći dva pristupa:\n",
        "\n",
        "*   Dokument kao vektor značajki\n",
        "*   Dokument kao \"bag-of-words\" model\n",
        "\n",
        "Značajke u prvoj klasi npr. možemo smatrati parom pitanja i odgovora, gdje je primjer reprezentacije nekog proizvoljnog dokumenta kroz dva pitanja jednak: $(1,2), (2, 0.0)$. Ovakav tip vektora nazivamo potpunim tj. gustim vektorom(eng. dense vector) pošto sadrži odgovor na svako pitanje iz skupa pitanja.\n",
        "\n",
        "\"Bag-of-words\" tj. BoW model je model iz klase modela vektorskog prostora tj. VSM modela(eng. Vector Space Model). To su algebarski modeli koji reprezentiraju tekstualne dokumente kao vektore značajki. Iz navedenog je lako zaključiti da je VSM generalizacija oba navedena pristupa. BoW model tekst reprezentira kao multiskup(eng. bag, multiset) riječi, gdje zanemaruje raspored ili veze među riječima dok zadržava višestrukost elemenata. Kako bi efikasno primijenili BoW model bitno je obraditi tekst prije nego ga proslijedimo modelu.\n",
        "\n",
        "Naš obrađeni korpus sadrži 12 jedinstvenih riječi što implicira da će BoW vektorska reprezentacija sadržavati 12 dimenzija. Kreirani rječnik koristimo za transformirati tokenizirane dokumente u 12-dimenzionalne BoW vektore.\n",
        "\n",
        "Npr. Prikazati ćemo frazu \"Human computer interaction\" koja nije dio našeg korpusa u obliku BoW vektora.\n"
      ]
    },
    {
      "cell_type": "code",
      "execution_count": 17,
      "metadata": {
        "colab": {
          "base_uri": "https://localhost:8080/"
        },
        "id": "DvCcYFA95jjT",
        "outputId": "336d3127-0ced-47db-fb15-9bee7d7261a8"
      },
      "outputs": [
        {
          "data": {
            "text/plain": [
              "{'computer': 0,\n",
              " 'eps': 8,\n",
              " 'graph': 10,\n",
              " 'human': 1,\n",
              " 'interface': 2,\n",
              " 'minors': 11,\n",
              " 'response': 3,\n",
              " 'survey': 4,\n",
              " 'system': 5,\n",
              " 'time': 6,\n",
              " 'trees': 9,\n",
              " 'user': 7}"
            ]
          },
          "execution_count": 17,
          "metadata": {},
          "output_type": "execute_result"
        }
      ],
      "source": [
        "dictionary.token2id"
      ]
    },
    {
      "cell_type": "code",
      "execution_count": 18,
      "metadata": {
        "colab": {
          "base_uri": "https://localhost:8080/"
        },
        "id": "-5isGhE568mK",
        "outputId": "89d891af-2c18-42b4-96c3-736c22a90de2"
      },
      "outputs": [
        {
          "data": {
            "text/plain": [
              "[(0, 1), (1, 1)]"
            ]
          },
          "execution_count": 18,
          "metadata": {},
          "output_type": "execute_result"
        }
      ],
      "source": [
        "new_document = \"Human computer interaction\"\n",
        "new_vector = dictionary.doc2bow(new_document.lower().split())\n",
        "new_vector"
      ]
    },
    {
      "cell_type": "markdown",
      "metadata": {
        "id": "rrj8ztji7Q87"
      },
      "source": [
        "U ovom prikazu vektora prikazana su dva para koordinata, gdje je prva koordinata jedinstveni identifikator riječi u rječniku, a druga koordinata broj pojavljivanja riječi u dokumentu. Kao što vidimo riječ \"interaction\" se ne nalazi u vektoru pošto se ne pojavljuje u rječniku.\n",
        "\n",
        "Na isti način možemo pretvoriti originalni korpus u kolekciju BoW vektora."
      ]
    },
    {
      "cell_type": "code",
      "execution_count": 19,
      "metadata": {
        "colab": {
          "base_uri": "https://localhost:8080/"
        },
        "id": "ulcg2nP885Th",
        "outputId": "53d1f22c-5833-4808-c6fc-0010379bf201"
      },
      "outputs": [
        {
          "data": {
            "text/plain": [
              "[[(0, 1), (1, 1), (2, 1)],\n",
              " [(0, 1), (3, 1), (4, 1), (5, 1), (6, 1), (7, 1)],\n",
              " [(2, 1), (5, 1), (7, 1), (8, 1)],\n",
              " [(1, 1), (5, 2), (8, 1)],\n",
              " [(3, 1), (6, 1), (7, 1)],\n",
              " [(9, 1)],\n",
              " [(9, 1), (10, 1)],\n",
              " [(9, 1), (10, 1), (11, 1)],\n",
              " [(4, 1), (10, 1), (11, 1)]]"
            ]
          },
          "execution_count": 19,
          "metadata": {},
          "output_type": "execute_result"
        }
      ],
      "source": [
        "bow_corpus = [dictionary.doc2bow(text) for text in processed_corpus]\n",
        "bow_corpus"
      ]
    },
    {
      "cell_type": "markdown",
      "metadata": {
        "id": "c1QEud9jiBvV"
      },
      "source": [
        "### Model"
      ]
    },
    {
      "cell_type": "markdown",
      "metadata": {
        "id": "gPkd3VV-iEGl"
      },
      "source": [
        "Nakon što smo vektorizirali dati korpus možemo na njemu primijeniti različite modele za različite transformativne svrhe. Primjer jednostavnog modela je \"tf-idf\"(eng. abbr. term frequency–inverse document frequency) model koji je statistika koja govori koliko je koja riječ u dokumentu važna za taj dokument u korpusu. Efektivno, ovaj model transformira BoW vektor u vektor kojemu je broj pojavljivanja riječi težinski normiran prema učestalosti svake riječi u korpusu.\n",
        "\n",
        "Npr. prikazat ćemo kako funkcionira tf-idf model na kratkom dokumentima \"Human computer interaction\" i \"system minors\".\n"
      ]
    },
    {
      "cell_type": "code",
      "execution_count": 20,
      "metadata": {
        "colab": {
          "base_uri": "https://localhost:8080/"
        },
        "id": "AWfn8NDgCISK",
        "outputId": "ce26392a-c496-4592-82a5-8629562c31f8"
      },
      "outputs": [
        {
          "name": "stdout",
          "output_type": "stream",
          "text": [
            "[(5, 0.5898341626740045), (11, 0.8075244024440723)]\n",
            "[(0, 0.7071067811865476), (1, 0.7071067811865476)]\n"
          ]
        }
      ],
      "source": [
        "tfidf_model = models.TfidfModel(bow_corpus)\n",
        "\n",
        "words = \"system minors\".lower().split()\n",
        "print(tfidf_model[dictionary.doc2bow(words)])\n",
        "\n",
        "words = \"Human computer interaction\".lower().split()\n",
        "print(tfidf_model[dictionary.doc2bow(words)])"
      ]
    },
    {
      "cell_type": "markdown",
      "metadata": {
        "id": "MezRnNm0KRy7"
      },
      "source": [
        "Nakon kreacije modela možemo ga koristiti za razne stvari tj. specifično tf-idf modelu možemo transformirati i indeksirati cijeli korpus te nad njime obavljati upite. Npr. možemo provjeriti koliko je neki dokument sličan dokumentima u našem korpusu."
      ]
    },
    {
      "cell_type": "code",
      "execution_count": 21,
      "metadata": {
        "colab": {
          "base_uri": "https://localhost:8080/"
        },
        "id": "V8yhZlxpLJgq",
        "outputId": "56417877-3098-4477-d34d-d7bcc252bcb4"
      },
      "outputs": [
        {
          "data": {
            "text/plain": [
              "[(0, 0.0),\n",
              " (1, 0.32448703),\n",
              " (2, 0.41707572),\n",
              " (3, 0.7184812),\n",
              " (4, 0.0),\n",
              " (5, 0.0),\n",
              " (6, 0.0),\n",
              " (7, 0.0),\n",
              " (8, 0.0)]"
            ]
          },
          "execution_count": 21,
          "metadata": {},
          "output_type": "execute_result"
        }
      ],
      "source": [
        "index = similarities.SparseMatrixSimilarity(tfidf_model[bow_corpus], num_features=12)\n",
        "query_document = 'system engineering'.split()\n",
        "query_bow = dictionary.doc2bow(query_document)\n",
        "sims = index[tfidf_model[query_bow]]\n",
        "list(enumerate(sims))"
      ]
    },
    {
      "cell_type": "markdown",
      "metadata": {
        "id": "rG9_tOKr_ufs"
      },
      "source": [
        "##Primjer izrade tematskih modela"
      ]
    },
    {
      "cell_type": "markdown",
      "metadata": {
        "id": "7HWtPCqvZqjn"
      },
      "source": [
        "###Prilagodbena obrada korpusa"
      ]
    },
    {
      "cell_type": "markdown",
      "metadata": {
        "id": "uUD_jYIvSYsR"
      },
      "source": [
        "Prilagodbena obrada korpusa znatno je kompliciranija nego što je prikazana u prijašnjem primjeru. Argument za klasificiranje tematskih modela pod algoritme obrade prirodnog jezika prvenstveno dolazi iz ovog stadija pripreme podataka gdje se primjenjuju znanja i tehnike kako bi se što kvalitetnije vektorizirao korpus.\n",
        "\n",
        "Prije nego se upustimo u prilagodbenu obradu korpusa potrebno je prvo kreirati korpus. Prilagodba ovom specifičnom skupu podataka zahtjeva da uklonimo sve LATEX izraze iz korpusa što je prikladno napraviti pri kreaciji."
      ]
    },
    {
      "cell_type": "code",
      "execution_count": 22,
      "metadata": {
        "colab": {
          "base_uri": "https://localhost:8080/"
        },
        "id": "0qDgEzeUzAo1",
        "outputId": "59eac179-bf36-45b7-f7bc-671f0de57ab8"
      },
      "outputs": [
        {
          "data": {
            "text/plain": [
              "[\"Reconstructing Subject-Specific Effect Maps  Predictive models allow subject-specific inference when analyzing disease\\nrelated alterations in neuroimaging data. Given a subject's data, inference can\\nbe made at two levels: global, i.e. identifiying condition presence for the\\nsubject, and local, i.e. detecting condition effect on each individual\\nmeasurement extracted from the subject's data. While global inference is widely\\nused, local inference, which can be used to form subject-specific effect maps,\\nis rarely used because existing models often yield noisy detections composed of\\ndispersed isolated islands. In this article, we propose a reconstruction\\nmethod, named RSM, to improve subject-specific detections of predictive\\nmodeling approaches and in particular, binary classifiers. RSM specifically\\naims to reduce noise due to sampling error associated with using a finite\\nsample of examples to train classifiers. The proposed method is a wrapper-type\\nalgorithm that can be used with different binary classifiers in a diagnostic\\nmanner, i.e. without information on condition presence. Reconstruction is posed\\nas a Maximum-A-Posteriori problem with a prior model whose parameters are\\nestimated from training data in a classifier-specific fashion. Experimental\\nevaluation is performed on synthetically generated data and data from the\\nAlzheimer's Disease Neuroimaging Initiative (ADNI) database. Results on\\nsynthetic data demonstrate that using RSM yields higher detection accuracy\\ncompared to using models directly or with bootstrap averaging. Analyses on the\\nADNI dataset show that RSM can also improve correlation between\\nsubject-specific detections in cortical thickness data and non-imaging markers\\nof Alzheimer's Disease (AD), such as the Mini Mental State Examination Score\\nand Cerebrospinal Fluid amyloid- levels. Further reliability studies on\\nthe longitudinal ADNI dataset show improvement on detection reliability when\\nRSM is used.\\n\",\n",
              " 'Rotation Invariance Neural Network  Rotation invariance and translation invariance have great values in image\\nrecognition tasks. In this paper, we bring a new architecture in convolutional\\nneural network (CNN) named cyclic convolutional layer to achieve rotation\\ninvariance in 2-D symbol recognition. We can also get the position and\\norientation of the 2-D symbol by the network to achieve detection purpose for\\nmultiple non-overlap target. Last but not least, this architecture can achieve\\none-shot learning in some cases using those invariance.\\n',\n",
              " 'Spherical polyharmonics and Poisson kernels for polyharmonic functions  We introduce and develop the notion of spherical polyharmonics, which are a\\nnatural generalisation of spherical harmonics. In particular we study the\\ntheory of zonal polyharmonics, which allows us, analogously to zonal harmonics,\\nto construct Poisson kernels for polyharmonic functions on the union of rotated\\nballs. We find the representation of Poisson kernels and zonal polyharmonics in\\nterms of the Gegenbauer polynomials. We show the connection between the\\nclassical Poisson kernel for harmonic functions on the ball, Poisson kernels\\nfor polyharmonic functions on the union of rotated balls, and the Cauchy-Hua\\nkernel for holomorphic functions on the Lie ball.\\n',\n",
              " 'A finite element approximation for the stochastic Maxwell--Landau--Lifshitz--Gilbert system  The stochastic Landau--Lifshitz--Gilbert (LLG) equation coupled with the\\nMaxwell equations (the so called stochastic MLLG system) describes the creation\\nof domain walls and vortices (fundamental objects for the novel nanostructured\\nmagnetic memories). We first reformulate the stochastic LLG equation into an\\nequation with time-differentiable solutions. We then propose a convergent\\n-linear scheme to approximate the solutions of the reformulated system.\\nAs a consequence, we prove convergence of the approximate solutions, with no or\\nminor conditions on time and space steps (depending on the value of ).\\nHence, we prove the existence of weak martingale solutions of the stochastic\\nMLLG system. Numerical results are presented to show applicability of the\\nmethod.\\n',\n",
              " 'Comparative study of Discrete Wavelet Transforms and Wavelet Tensor Train decomposition to feature extraction of FTIR data of medicinal plants  Fourier-transform infra-red (FTIR) spectra of samples from 7 plant species\\nwere used to explore the influence of preprocessing and feature extraction on\\nefficiency of machine learning algorithms. Wavelet Tensor Train (WTT) and\\nDiscrete Wavelet Transforms (DWT) were compared as feature extraction\\ntechniques for FTIR data of medicinal plants. Various combinations of signal\\nprocessing steps showed different behavior when applied to classification and\\nclustering tasks. Best results for WTT and DWT found through grid search were\\nsimilar, significantly improving quality of clustering as well as\\nclassification accuracy for tuned logistic regression in comparison to original\\nspectra. Unlike DWT, WTT has only one parameter to be tuned (rank), making it a\\nmore versatile and easier to use as a data processing tool in various signal\\nprocessing applications.\\n',\n",
              " 'On maximizing the fundamental frequency of the complement of an obstacle  Let  be a bounded domain satisfying a\\nHayman-type asymmetry condition, and let  be an arbitrary bounded domain\\nreferred to as \"obstacle\". We are interested in the behaviour of the first\\nDirichlet eigenvalue . First, we prove an\\nupper bound on  in terms of the distance\\nof the set  to the set of maximum points  of the first Dirichlet\\nground state  of . In short, a direct\\ncorollary is that if \\\\begin{equation} \\\\mu_\\\\Omega := \\\\max_{x}\\\\lambda_1(\\\\Omega\\n\\\\setminus (x+D)) \\\\end{equation} is large enough in terms of $ \\\\lambda_1(\\\\Omega)\\n x+D  \\\\mu_\\\\Omega $ are close to each maximum\\npoint  of .\\nSecond, we discuss the distribution of  and the\\npossibility to inscribe wavelength balls at a given point in .\\nFinally, we specify our observations to convex obstacles  and show that\\nif  is sufficiently large with respect to ,\\nthen all maximizers  of  contain all maximum points $ x_0\\n \\\\phi_{\\\\lambda_1(\\\\Omega)} $.\\n',\n",
              " \"On the rotation period and shape of the hyperbolic asteroid 1I/`Oumuamua (2017) U1 from its lightcurve  We observed the newly discovered hyperbolic minor planet 1I/`Oumuamua (2017\\nU1) on 2017 October 30 with Lowell Observatory's 4.3-m Discovery Channel\\nTelescope. From these observations, we derived a partial lightcurve with\\npeak-to-trough amplitude of at least 1.2 mag. This lightcurve segment rules out\\nrotation periods less than 3 hr and suggests that the period is at least 5 hr.\\nOn the assumption that the variability is due to a changing cross section, the\\naxial ratio is at least 3:1. We saw no evidence for a coma or tail in either\\nindividual images or in a stacked image having an equivalent exposure time of\\n9000 s.\\n\",\n",
              " \"Adverse effects of polymer coating on heat transport at solid-liquid interface  The ability of metallic nanoparticles to supply heat to a liquid environment\\nunder exposure to an external optical field has attracted growing interest for\\nbiomedical applications. Controlling the thermal transport properties at a\\nsolid-liquid interface then appears to be particularly relevant. In this work,\\nwe address the thermal transport between water and a gold surface coated by a\\npolymer layer. Using molecular dynamics simulations, we demonstrate that\\nincreasing the polymer density displaces the domain resisting to the heat flow,\\nwhile it doesn't affect the final amount of thermal energy released in the\\nliquid. This unexpected behavior results from a trade-off established by the\\nincreasing polymer density which couples more efficiently with the solid but\\ninitiates a counterbalancing resistance with the liquid.\\n\",\n",
              " 'SPH calculations of Mars-scale collisions: the role of the Equation of State, material rheologies, and numerical effects  We model large-scale (2000km) impacts on a Mars-like planet using a\\nSmoothed Particle Hydrodynamics code. The effects of material strength and of\\nusing different Equations of State on the post-impact material and temperature\\ndistributions are investigated. The properties of the ejected material in terms\\nof escaping and disc mass are analysed as well. We also study potential\\nnumerical effects in the context of density discontinuities and rigid body\\nrotation. We find that in the large-scale collision regime considered here\\n(with impact velocities of 4km/s), the effect of material strength is\\nsubstantial for the post-impact distribution of the temperature and the\\nimpactor material, while the influence of the Equation of State is more subtle\\nand present only at very high temperatures.\\n',\n",
              " ' fails to predict the outbreak potential in the presence of natural-boosting immunity  Time varying susceptibility of host at individual level due to waning and\\nboosting immunity is known to induce rich long-term behavior of disease\\ntransmission dynamics. Meanwhile, the impact of the time varying heterogeneity\\nof host susceptibility on the shot-term behavior of epidemics is not\\nwell-studied, even though the large amount of the available epidemiological\\ndata are the short-term epidemics. Here we constructed a parsimonious\\nmathematical model describing the short-term transmission dynamics taking into\\naccount natural-boosting immunity by reinfection, and obtained the explicit\\nsolution for our model. We found that our system show \"the delayed epidemic\",\\nthe epidemic takes off after negative slope of the epidemic curve at the\\ninitial phase of epidemic, in addition to the common classification in the\\nstandard SIR model, i.e., \"no epidemic\" as  or normal\\nepidemic as . Employing the explicit solution we derived the\\ncondition for each classification.\\n']"
            ]
          },
          "execution_count": 22,
          "metadata": {},
          "output_type": "execute_result"
        }
      ],
      "source": [
        "corpus = [re.sub(r'\\$.*?\\$', \"\", document) for document in list(articles.title.values + articles.abstract.values)]\n",
        " \n",
        "corpus[:10]"
      ]
    },
    {
      "cell_type": "markdown",
      "metadata": {
        "id": "3r6fYqUY32qq"
      },
      "source": [
        "Prvi korak prilagodbene obrade korpusa je tokenizacija teksta. Tokenizacija, kao što smo već naveli, je metoda obrade teksta koja od tekstualne cjeline stvara kolekciju tokena tj. razdvaja tekst na \"riječi\". Detaljno objašnjenje tokenizacije za ovaj rad je nepotrebno, već je samo bitno napomenuti kako je za potrebe tematskih modela tokenizacija regularnim izrazima(eng. regular expression tokenization) jedna od prikladnih opcija.\n",
        "\n",
        "\"Regex\" tokenizacija kao predložak po kojemu kreira tokene uzima dani regularni izraz te po njemu odvaja tekstualne cjeline. U izvedbi danu tokenizaciju možemo vidjeti u sljedećem primjeru. Za regularni izraz uzimamo sve riječi koje imaju u sebi slova te rastavljamo riječi koje u sebi imaju interpunkcijske znakove poput apostrofa ili crte.\n"
      ]
    },
    {
      "cell_type": "code",
      "execution_count": 23,
      "metadata": {
        "colab": {
          "base_uri": "https://localhost:8080/"
        },
        "id": "mJRB1E0hdOmn",
        "outputId": "1d44e177-3d4c-4043-e40d-a70895a07b33"
      },
      "outputs": [
        {
          "data": {
            "text/plain": [
              "['Reconstructing',\n",
              " 'Subject',\n",
              " 'Specific',\n",
              " 'Effect',\n",
              " 'Maps',\n",
              " 'Predictive',\n",
              " 'models',\n",
              " 'allow',\n",
              " 'subject',\n",
              " 'specific',\n",
              " 'inference',\n",
              " 'when',\n",
              " 'analyzing',\n",
              " 'disease',\n",
              " 'related',\n",
              " 'alterations',\n",
              " 'in',\n",
              " 'neuroimaging',\n",
              " 'data',\n",
              " 'Given']"
            ]
          },
          "execution_count": 23,
          "metadata": {},
          "output_type": "execute_result"
        }
      ],
      "source": [
        "regex = r\"(?u)[\\b\\#a-zA-Z]+\\b\"\n",
        "tokenizer = RegexpTokenizer(regex)\n",
        "corpus_tokenized = [tokenizer.tokenize(document) for document in corpus]\n",
        "corpus_tokenized[0][:20]"
      ]
    },
    {
      "cell_type": "markdown",
      "metadata": {
        "id": "6UmJJKOq45RJ"
      },
      "source": [
        "Nakon tokenizacije spremni smo ukloniti stop riječi iz korpusa. U ovome primjeru koristit ćemo kolekciju stop riječi iz nltk biblioteke. Alternative postoje, ali niti jedna kolekcija nije savršeno prikladna za svaki korpus. Kreacija kolekcije stop riječi svojstvena je svakom korpusu zasebno. Jedna od metoda za kreaciju potpunije kolekcije je analiza najfrekventnijih riječi u korpusu, ali to je van opsega ovoga rada. Uz filtriranje stop riječi uklonit ćemo i sve tokene koji su kraći od 3 slova uz pretpostavku da su semantički manje važni."
      ]
    },
    {
      "cell_type": "code",
      "execution_count": 25,
      "metadata": {
        "colab": {
          "base_uri": "https://localhost:8080/"
        },
        "id": "U79-s9MhLyJb",
        "outputId": "00803c6b-4a18-4951-9431-59e2391cbcaa"
      },
      "outputs": [
        {
          "name": "stdout",
          "output_type": "stream",
          "text": [
            "[nltk_data] Downloading package stopwords to /root/nltk_data...\n",
            "[nltk_data]   Package stopwords is already up-to-date!\n"
          ]
        }
      ],
      "source": [
        "import nltk\n",
        "nltk.download('stopwords')\n",
        "from nltk.corpus import stopwords"
      ]
    },
    {
      "cell_type": "code",
      "execution_count": 26,
      "metadata": {
        "colab": {
          "base_uri": "https://localhost:8080/"
        },
        "id": "RMJdTeYR45o8",
        "outputId": "bcee3ac8-6e3a-47c8-b30b-20e46b4e77f1"
      },
      "outputs": [
        {
          "data": {
            "text/plain": [
              "['Reconstructing',\n",
              " 'Subject',\n",
              " 'Specific',\n",
              " 'Effect',\n",
              " 'Maps',\n",
              " 'Predictive',\n",
              " 'models',\n",
              " 'allow',\n",
              " 'subject',\n",
              " 'specific',\n",
              " 'inference',\n",
              " 'analyzing',\n",
              " 'disease',\n",
              " 'related',\n",
              " 'alterations',\n",
              " 'neuroimaging',\n",
              " 'data',\n",
              " 'Given',\n",
              " 'subject',\n",
              " 'data']"
            ]
          },
          "execution_count": 26,
          "metadata": {},
          "output_type": "execute_result"
        }
      ],
      "source": [
        "stop_words = set(stopwords.words('english')).union({'us'})\n",
        "\n",
        "processed_corpus = [[token for token in document if token.lower() not in stop_words and len(token) > 2] for document in corpus_tokenized]\n",
        "processed_corpus[0][:20]"
      ]
    },
    {
      "cell_type": "markdown",
      "metadata": {
        "id": "ru1-X3UYva2V"
      },
      "source": [
        "Nakon što smo izbacili stop riječi iz korpusa možemo analizirati korpus za moguće neposredne odnose između tokena. Takve tokene zovemo n-gramima koje definiramo kao sekvencu od $n$ susjednih tokena. Razlog grupacije tokena u n-grame jest što zasebno neki tokeni nisu semantički značajni dok skupa, u obliku n-grama, potencijalno mogu biti. Radi jednostavnosti za naš primjer analizirati ćemo samo bigrame."
      ]
    },
    {
      "cell_type": "code",
      "execution_count": 27,
      "metadata": {
        "id": "EHZnQvlhvajm"
      },
      "outputs": [],
      "source": [
        "bigram = gensim.models.Phrases(processed_corpus, min_count=5, threshold=100)\n",
        "bigram_mod = gensim.models.phrases.Phraser(bigram)\n",
        "processed_corpus = [bigram_mod[document] for document in processed_corpus]"
      ]
    },
    {
      "cell_type": "code",
      "execution_count": 28,
      "metadata": {
        "colab": {
          "base_uri": "https://localhost:8080/"
        },
        "id": "MAb5EDSk0ce8",
        "outputId": "bc707030-7d4e-4b9e-99da-a3c23ba69635"
      },
      "outputs": [
        {
          "data": {
            "text/plain": [
              "[['widely_used',\n",
              "  'Maximum_Posteriori',\n",
              "  'Alzheimer_Disease',\n",
              "  'Neuroimaging_Initiative',\n",
              "  'Alzheimer_Disease'],\n",
              " ['Neural_Network',\n",
              "  'convolutional_neural',\n",
              "  'position_orientation',\n",
              "  'Last_least'],\n",
              " ['spherical_harmonics']]"
            ]
          },
          "execution_count": 28,
          "metadata": {},
          "output_type": "execute_result"
        }
      ],
      "source": [
        "[[token for token in document if '_' in token] for document in processed_corpus][:3]"
      ]
    },
    {
      "cell_type": "markdown",
      "metadata": {
        "id": "U-VMgliglPgG"
      },
      "source": [
        "Nakon potpune tokenizacije obrada može nastaviti obradom kreiranih tokena što je generalno dobra praksa. U obradi prirodnog jezika razlikujemo dvije metode obrade jednostavnih tokena:\n",
        "\n",
        "*   Analiza korijenskog morfema(eng. stemming)\n",
        "*   Analiza leksema(eng. lemmatization)\n",
        "\n",
        "U morfologiji svaka riječ se sastoji od najmanjih jedinica koje imaju svoje značenje. Njih nazivamo morfemima. Npr. u hrvatskom jeziku nominativ imenice \"slika\" ima morfeme \"slik-\" i \"-a\". gdje je korijenski morfem \"slik-\". Proces analize korijenskog morfema bi u ovom slučaju bi token \"slika\" zamijenio sa njegovim korijenskim morfemom \"slik\".\n",
        "\n",
        "Leksemi s druge strane su riječi sa ukupnošću svojih oblika. Npr. leksem \"slika\" podrazumijeva imenicu \"slika\" u oba broja i svim padežima. Time bi proces analize leksema riječ \"slikama\" zamijenio leksemom \"slika\".\n",
        "\n",
        "U praksi prilagodbene obrade korpusa analiza leksema se generalno više preferira od alternativnih metoda. Gotovih rješenja za navedene analize u Pythonu ima mnogo, a mi ćemo iskoristiti gotovo rješenje iz nltk modula pod nazivom \"WordNetLemmatizer\".\n"
      ]
    },
    {
      "cell_type": "code",
      "execution_count": 29,
      "metadata": {
        "id": "LFzK4Wt_1Our"
      },
      "outputs": [],
      "source": [
        "lemmatizer = WordNetLemmatizer()\n",
        "processed_corpus = [[lemmatizer.lemmatize(token) for token in document] for document in processed_corpus]"
      ]
    },
    {
      "cell_type": "code",
      "execution_count": 30,
      "metadata": {
        "colab": {
          "base_uri": "https://localhost:8080/"
        },
        "id": "CnMXLDj_SokG",
        "outputId": "167a9317-d0d7-4343-9f76-50d80dcacbfa"
      },
      "outputs": [
        {
          "data": {
            "text/plain": [
              "['Rotation',\n",
              " 'Invariance',\n",
              " 'Neural_Network',\n",
              " 'Rotation',\n",
              " 'invariance',\n",
              " 'translation',\n",
              " 'invariance',\n",
              " 'great',\n",
              " 'value',\n",
              " 'image',\n",
              " 'recognition',\n",
              " 'task',\n",
              " 'paper',\n",
              " 'bring',\n",
              " 'new',\n",
              " 'architecture',\n",
              " 'convolutional_neural',\n",
              " 'network',\n",
              " 'CNN',\n",
              " 'named']"
            ]
          },
          "execution_count": 30,
          "metadata": {},
          "output_type": "execute_result"
        }
      ],
      "source": [
        "processed_corpus[1][:20]"
      ]
    },
    {
      "cell_type": "markdown",
      "metadata": {
        "id": "e8XHtDlOvP4N"
      },
      "source": [
        "Ovom analizom smo finalizirali prilagodbenu obradu korpusa za potrebe ovog rada. U slučaju izrade sekvencijalne obrade(eng. pipeline) za produkcijsko okruženje trenutnom infrastrukturom bi se rijetko tko zadovoljio, ali za potrebe izlaganja seminarskog rada prikazali smo većinu relevantnih metoda u primjeni prilagodbene obrade korpusa."
      ]
    },
    {
      "cell_type": "markdown",
      "metadata": {
        "id": "apD6ZHbrc0hT"
      },
      "source": [
        "###Kreacija tematskih modela"
      ]
    },
    {
      "cell_type": "markdown",
      "metadata": {
        "id": "3UPVb7JIc_0v"
      },
      "source": [
        "Spremni smo pripremiti korpus za kreiranje tematskog modela. Kreirati ćemo rječnik obrađenog korpusa, te vektorizirati korpus BoW modelom. Kako bi dodatno prilagodili korpus modelu filtrirati ćemo riječi iz rječnika koje se pojavljuju ispod 20 puta i u preko 50% dokumenata."
      ]
    },
    {
      "cell_type": "code",
      "execution_count": 31,
      "metadata": {
        "id": "kUzwv18maU1p"
      },
      "outputs": [],
      "source": [
        "dictionary = corpora.Dictionary(processed_corpus)\n",
        "dictionary.filter_extremes(no_below=20, no_above=0.5)\n",
        "corpus_vectorized = [dictionary.doc2bow(document) for document in processed_corpus]"
      ]
    },
    {
      "cell_type": "code",
      "execution_count": 32,
      "metadata": {
        "colab": {
          "base_uri": "https://localhost:8080/"
        },
        "id": "prb_4bIkhmDx",
        "outputId": "1b70fdb9-7f81-4211-f143-aa62ceafd220"
      },
      "outputs": [
        {
          "name": "stdout",
          "output_type": "stream",
          "text": [
            "Number of unique tokens: 9229\n",
            "Number of documents: 29961\n"
          ]
        }
      ],
      "source": [
        "print('Number of unique tokens: %d' % len(dictionary))\n",
        "print('Number of documents: %d' % len(corpus_vectorized))"
      ]
    },
    {
      "cell_type": "markdown",
      "metadata": {
        "id": "EL4PH1-Aaxeg"
      },
      "source": [
        "Nakon kreacije rječnika i vektorizacije korpusa spremni smo za kreaciju modela. Kao primjer uzeti ćemo LSI model.\n",
        "LSI model kao obavezne parametre prima vektorizirani korpus i rječnik. Kao opcionalne među ostalom prima broj tema."
      ]
    },
    {
      "cell_type": "code",
      "execution_count": 33,
      "metadata": {
        "id": "-O-2yU0paxEl"
      },
      "outputs": [],
      "source": [
        "lsi_model = LsiModel(corpus_vectorized, id2word = dictionary)"
      ]
    },
    {
      "cell_type": "code",
      "execution_count": 34,
      "metadata": {
        "colab": {
          "base_uri": "https://localhost:8080/"
        },
        "id": "Et0yKldOyS-9",
        "outputId": "43cd3906-d750-46c8-8988-e5ccacb80848"
      },
      "outputs": [
        {
          "data": {
            "text/plain": [
              "[(0,\n",
              "  '0.377*\"model\" + 0.239*\"data\" + 0.224*\"method\" + 0.179*\"network\" + 0.169*\"problem\" + 0.164*\"based\" + 0.161*\"algorithm\" + 0.160*\"system\" + 0.146*\"time\" + 0.145*\"result\"'),\n",
              " (1,\n",
              "  '-0.854*\"model\" + 0.238*\"problem\" + 0.234*\"algorithm\" + 0.136*\"method\" + 0.090*\"system\" + 0.084*\"time\" + 0.083*\"function\" + 0.079*\"result\" + 0.075*\"graph\" + 0.071*\"solution\"'),\n",
              " (2,\n",
              "  '-0.438*\"network\" + -0.355*\"data\" + 0.292*\"system\" + -0.202*\"method\" + -0.173*\"learning\" + 0.146*\"state\" + -0.125*\"algorithm\" + 0.122*\"energy\" + 0.117*\"field\" + 0.112*\"two\"'),\n",
              " (3,\n",
              "  '0.776*\"network\" + -0.420*\"data\" + -0.215*\"method\" + 0.164*\"system\" + -0.153*\"algorithm\" + 0.103*\"node\" + -0.101*\"problem\" + 0.071*\"state\" + 0.069*\"structure\" + 0.067*\"dynamic\"'),\n",
              " (4,\n",
              "  '0.495*\"data\" + -0.409*\"problem\" + -0.402*\"algorithm\" + 0.324*\"system\" + -0.274*\"model\" + -0.154*\"graph\" + -0.100*\"function\" + -0.078*\"optimization\" + -0.075*\"solution\" + 0.070*\"using\"')]"
            ]
          },
          "execution_count": 34,
          "metadata": {},
          "output_type": "execute_result"
        }
      ],
      "source": [
        "lsi_model.print_topics(num_topics=5, num_words=10)"
      ]
    },
    {
      "cell_type": "markdown",
      "metadata": {
        "id": "6S6G3cZnrGpq"
      },
      "source": [
        "Način na koji vrednujemo tematske modele je pomoću modela koherencije(eng. Coherence Model) čiju implementaciju pronalazimo u gensimu."
      ]
    },
    {
      "cell_type": "code",
      "execution_count": 35,
      "metadata": {
        "id": "KFpaO6JZjJQj"
      },
      "outputs": [],
      "source": [
        "coherence_model_lsi = CoherenceModel(model=lsi_model, texts=processed_corpus, coherence='c_v')"
      ]
    },
    {
      "cell_type": "code",
      "execution_count": 36,
      "metadata": {
        "colab": {
          "base_uri": "https://localhost:8080/"
        },
        "id": "716UOdWUyUFI",
        "outputId": "860a3c8c-a299-4023-a70b-c954c0917179"
      },
      "outputs": [
        {
          "data": {
            "text/plain": [
              "0.21365528843780726"
            ]
          },
          "execution_count": 36,
          "metadata": {},
          "output_type": "execute_result"
        }
      ],
      "source": [
        "coherence_model_lsi.get_coherence()"
      ]
    },
    {
      "cell_type": "markdown",
      "metadata": {
        "id": "EHyrknMcsj5C"
      },
      "source": [
        "Trenutno trenirani model je ocjenjen poprilično loše. U ovom slučaju iterativnom metodom bi probali testirati hiperparametre poput \"no_below\" ili \"no_above\" u metodi \"filter_extremes\" te prvenstveno \"num_topics\" pri treniranju modela."
      ]
    },
    {
      "cell_type": "code",
      "execution_count": 37,
      "metadata": {
        "id": "uzbEIDl5tbD_"
      },
      "outputs": [],
      "source": [
        "def create_lsi_model(corpus, dictionary, no_topics):\n",
        "    model = LsiModel(corpus, num_topics=no_topics, id2word = dictionary)\n",
        "    return model\n",
        "\n",
        "def get_lsi_coherence_list(corpus_vectorized, dictionary, no_topics_list, processed_corpus):\n",
        "  model_cv = []\n",
        "  for no_topics in no_topics_list:\n",
        "      model = create_lsi_model(corpus_vectorized, dictionary, no_topics)\n",
        "      coherencemodel = CoherenceModel(model=model, texts=processed_corpus, dictionary=dictionary, coherence='c_v')\n",
        "      model_cv.append((model, coherencemodel.get_coherence()))\n",
        "  return model_cv"
      ]
    },
    {
      "cell_type": "code",
      "execution_count": 38,
      "metadata": {
        "colab": {
          "base_uri": "https://localhost:8080/",
          "height": 279
        },
        "id": "iMC01fHTyaW_",
        "outputId": "d6fa5ea2-1357-4d85-9b71-29717613f5a8"
      },
      "outputs": [
        {
          "data": {
            "image/png": "[encoded data removed]",
            "text/plain": [
              "<Figure size 432x288 with 1 Axes>"
            ]
          },
          "metadata": {
            "needs_background": "light"
          },
          "output_type": "display_data"
        }
      ],
      "source": [
        "x = range(2, 10)\n",
        "lsi_model_cv = get_lsi_coherence_list(corpus_vectorized, dictionary, x, processed_corpus)\n",
        "plt.plot(x, [value[1] for value in lsi_model_cv])\n",
        "plt.xlabel(\"Number of Topics\")\n",
        "plt.ylabel(\"Coherence score\")\n",
        "plt.show()"
      ]
    },
    {
      "cell_type": "markdown",
      "metadata": {
        "id": "scmoR-WZxmnf"
      },
      "source": [
        "Kao što možemo vidjeti na grafu najbolje ocjenjen model je model koji projicira 3 teme."
      ]
    },
    {
      "cell_type": "code",
      "execution_count": 50,
      "metadata": {
        "colab": {
          "base_uri": "https://localhost:8080/"
        },
        "id": "Osxe831Oxk9r",
        "outputId": "b7a27a63-dc93-4c85-c694-7f9b70c65217"
      },
      "outputs": [
        {
          "data": {
            "text/plain": [
              "[(0,\n",
              "  '0.377*\"model\" + 0.239*\"data\" + 0.224*\"method\" + 0.179*\"network\" + 0.169*\"problem\" + 0.163*\"based\" + 0.160*\"algorithm\" + 0.160*\"system\" + 0.146*\"time\" + 0.145*\"result\"'),\n",
              " (1,\n",
              "  '-0.854*\"model\" + 0.238*\"problem\" + 0.236*\"algorithm\" + 0.139*\"method\" + 0.085*\"system\" + 0.083*\"time\" + 0.082*\"function\" + 0.078*\"result\" + 0.076*\"graph\" + 0.070*\"solution\"'),\n",
              " (2,\n",
              "  '-0.458*\"network\" + -0.347*\"data\" + 0.289*\"system\" + -0.197*\"method\" + -0.171*\"learning\" + 0.144*\"state\" + 0.122*\"energy\" + -0.118*\"algorithm\" + 0.118*\"field\" + 0.111*\"two\"')]"
            ]
          },
          "execution_count": 50,
          "metadata": {},
          "output_type": "execute_result"
        }
      ],
      "source": [
        "lsi_model_cv[1][0].print_topics()"
      ]
    },
    {
      "cell_type": "code",
      "execution_count": 51,
      "metadata": {
        "id": "ZVOhPuM56WDb"
      },
      "outputs": [],
      "source": [
        "coherence_model_lsi = CoherenceModel(model=lsi_model_cv[1][0], texts=processed_corpus, coherence='c_v')"
      ]
    },
    {
      "cell_type": "code",
      "execution_count": 52,
      "metadata": {
        "colab": {
          "base_uri": "https://localhost:8080/"
        },
        "id": "xv4-xUNA6X7_",
        "outputId": "3af02be0-4e77-4090-f2dd-b7719707789c"
      },
      "outputs": [
        {
          "data": {
            "text/plain": [
              "0.37343408395725847"
            ]
          },
          "execution_count": 52,
          "metadata": {},
          "output_type": "execute_result"
        }
      ],
      "source": [
        "coherence_model_lsi.get_coherence()"
      ]
    },
    {
      "cell_type": "markdown",
      "metadata": {
        "id": "eN5mbvFzzPpj"
      },
      "source": [
        "Računajući da najveća količina dokumenata u korpusu pripada radovima tematike računarstva rezultati nisu pretjerano začuđujući.\n",
        "\n",
        "Pošto smo pokazali funkcionalnost LSI modela preostaje nam još LDA model."
      ]
    },
    {
      "cell_type": "code",
      "execution_count": 42,
      "metadata": {
        "id": "XlE7d-xS0ma3"
      },
      "outputs": [],
      "source": [
        "lda_model = LdaModel(\n",
        "    corpus=corpus_vectorized,\n",
        "    id2word=dictionary,\n",
        "    chunksize=2000,\n",
        "    alpha='auto',\n",
        "    eta='auto',\n",
        "    iterations=400,\n",
        "    num_topics=4,\n",
        "    passes=20,\n",
        "    eval_every=None)"
      ]
    },
    {
      "cell_type": "markdown",
      "metadata": {
        "id": "_fwv8FLv6oXW"
      },
      "source": [
        "Odabir hiperparametara u relevantnih LDA modelu puno je veći nego kod LSI modela. Opcionalni parametri koji poboljšavaju rezultate modela su \"passes\", \"iterations\" i \"chunksize\". \"alpha\" i \"beta\" su parametri reprezentiraju gustoću distribucije tema u dokumentu tj. riječi po temama. Kada alpha i beta poprime vrijednost 1 postižemo pLSA model. Parametar \"eval_every\" je postavljen na \"None\" prema savjetu dokumentacije. Ostalo je identično kao i kod LSI modela."
      ]
    },
    {
      "cell_type": "code",
      "execution_count": 43,
      "metadata": {
        "id": "xpQkeCie2QNc"
      },
      "outputs": [],
      "source": [
        "top_topics = lda_model.top_topics(corpus_vectorized, topn=10)"
      ]
    },
    {
      "cell_type": "code",
      "execution_count": 44,
      "metadata": {
        "colab": {
          "base_uri": "https://localhost:8080/"
        },
        "id": "Ga0_SaB647MA",
        "outputId": "2767a1e4-2ae3-4f5c-b4c7-4ca6ac1f3e23"
      },
      "outputs": [
        {
          "data": {
            "text/plain": [
              "[([(0.013382058, 'model'),\n",
              "   (0.013144344, 'data'),\n",
              "   (0.012868748, 'network'),\n",
              "   (0.0076211058, 'based'),\n",
              "   (0.0072203744, 'learning'),\n",
              "   (0.0072031855, 'method'),\n",
              "   (0.0067472444, 'approach'),\n",
              "   (0.0056955465, 'using'),\n",
              "   (0.0055694296, 'system'),\n",
              "   (0.00510883, 'paper')],\n",
              "  -1.1831325534011514),\n",
              " ([(0.016421314, 'algorithm'),\n",
              "   (0.014889113, 'problem'),\n",
              "   (0.014649461, 'method'),\n",
              "   (0.01195823, 'model'),\n",
              "   (0.009316977, 'time'),\n",
              "   (0.007855287, 'distribution'),\n",
              "   (0.0073769954, 'function'),\n",
              "   (0.006433648, 'based'),\n",
              "   (0.0062188655, 'proposed'),\n",
              "   (0.00616514, 'parameter')],\n",
              "  -1.5052842242696818),\n",
              " ([(0.0077147363, 'model'),\n",
              "   (0.0071057808, 'energy'),\n",
              "   (0.0070749084, 'system'),\n",
              "   (0.0058272, 'state'),\n",
              "   (0.005320164, 'field'),\n",
              "   (0.005230038, 'two'),\n",
              "   (0.004864274, 'phase'),\n",
              "   (0.0047982065, 'effect'),\n",
              "   (0.00429481, 'high'),\n",
              "   (0.004173033, 'temperature')],\n",
              "  -1.9599611993432464),\n",
              " ([(0.009775992, 'space'),\n",
              "   (0.009511726, 'result'),\n",
              "   (0.009059262, 'graph'),\n",
              "   (0.008996551, 'function'),\n",
              "   (0.008790398, 'group'),\n",
              "   (0.007822633, 'equation'),\n",
              "   (0.0076681743, 'show'),\n",
              "   (0.00708542, 'theory'),\n",
              "   (0.006836796, 'prove'),\n",
              "   (0.0067248945, 'set')],\n",
              "  -2.0121381672038243)]"
            ]
          },
          "execution_count": 44,
          "metadata": {},
          "output_type": "execute_result"
        }
      ],
      "source": [
        "top_topics"
      ]
    },
    {
      "cell_type": "markdown",
      "metadata": {
        "id": "2IctINu65Fxz"
      },
      "source": [
        "Kao što možemo vidjeti rezultati izgledaju definitivno \"prirodnije\" nego kod LSI modela. Npr. jasnije se vidi da je tematika prvog klastera računarstvo, drugog statistika, trećeg fizika, a četvrtog matematik dok je to kod LSI modela bilo poprilično teško za uočiti. "
      ]
    },
    {
      "cell_type": "code",
      "execution_count": 45,
      "metadata": {
        "id": "ni2x6jHy5BFg"
      },
      "outputs": [],
      "source": [
        "coherence_model_lda = CoherenceModel(model=lda_model, texts=processed_corpus, coherence='c_v')"
      ]
    },
    {
      "cell_type": "code",
      "execution_count": 46,
      "metadata": {
        "colab": {
          "base_uri": "https://localhost:8080/"
        },
        "id": "gthf5TPp45MU",
        "outputId": "3d40d843-febb-4e84-e4e7-a18b18cc3ea4"
      },
      "outputs": [
        {
          "data": {
            "text/plain": [
              "0.4034033348041488"
            ]
          },
          "execution_count": 46,
          "metadata": {},
          "output_type": "execute_result"
        }
      ],
      "source": [
        "coherence_model_lda.get_coherence()"
      ]
    },
    {
      "cell_type": "markdown",
      "metadata": {
        "id": "NskEheHaBnRy"
      },
      "source": [
        "Zanimljivo ocjena modela koherencije nije pretjerano bolja od LSI modela.\n",
        "\n",
        "Uz ocjenu koherencije još jedna bitna ocjena je zbunjenost(eng. perplexity). Zbunjenost je statistička mjera koja opisuje koliko dobro model predviđa uzorak. Metoda u gensimu računa granicu(eng. bound) kojom preko formule: $perplexity = 2^{(-bound)}$ dobijemo zbunjenost. Zbunjenost pada što je više tema u modelu."
      ]
    },
    {
      "cell_type": "code",
      "execution_count": null,
      "metadata": {
        "id": "TdziHsOBB3JM"
      },
      "outputs": [],
      "source": [
        "bound = lda_model.log_perplexity(corpus_vectorized)\n",
        "perplexity = pow(2,-bound)"
      ]
    },
    {
      "cell_type": "code",
      "execution_count": 48,
      "metadata": {
        "colab": {
          "base_uri": "https://localhost:8080/"
        },
        "id": "zPk0PZpRI5qJ",
        "outputId": "d0cb1657-a3f2-4d35-d9ce-d7c6bdb95b78"
      },
      "outputs": [
        {
          "data": {
            "text/plain": [
              "206.8278446864815"
            ]
          },
          "execution_count": 48,
          "metadata": {},
          "output_type": "execute_result"
        }
      ],
      "source": [
        "perplexity"
      ]
    },
    {
      "cell_type": "markdown",
      "metadata": {
        "id": "W_DMaX-9FM6j"
      },
      "source": [
        "### Vizualizacija tema LDA modela"
      ]
    },
    {
      "cell_type": "markdown",
      "metadata": {
        "id": "Rwip4dDeJArK"
      },
      "source": [
        "Za kraj valjalo bi vizualizirati teme koje je kreirao LDA model. Za vizualizaciju koristimo \"pyLDAvis\" biblioteku."
      ]
    },
    {
      "cell_type": "code",
      "execution_count": 49,
      "metadata": {
        "colab": {
          "base_uri": "https://localhost:8080/",
          "height": 916
        },
        "id": "zSSOLnXyFMIg",
        "outputId": "03bc1979-4441-4c82-da7f-d90da1fe0e59"
      },
      "outputs": [
        {
          "name": "stderr",
          "output_type": "stream",
          "text": [
            "/usr/local/lib/python3.7/dist-packages/pyLDAvis/_prepare.py:247: FutureWarning: In a future version of pandas all arguments of DataFrame.drop except for the argument 'labels' will be keyword-only\n",
            "  by='saliency', ascending=False).head(R).drop('saliency', 1)\n"
          ]
        },
        {
          "data": {
            "text/html": [
              "\n",
              "<link rel=\"stylesheet\" type=\"text/css\" href=\"https://cdn.jsdelivr.net/gh/bmabey/pyLDAvis@3.3.1/pyLDAvis/js/ldavis.v1.0.0.css\">\n",
              "\n",
              "\n",
              "<div id=\"ldavis_el701403364745495846881919735\"></div>\n",
              "<script type=\"text/javascript\">\n",
              "\n",
              "var ldavis_el701403364745495846881919735_data = {\"mdsDat\": {\"x\": [0.1518454998433023, 0.08059249318423577, -0.0021171890691827617, -0.23032080395835525], \"y\": [0.09117078150118918, -0.20222750646172, 0.12284126278864677, -0.011784537828115959], \"topics\": [1, 2, 3, 4], \"cluster\": [1, 1, 1, 1], \"Freq\": [37.1910564597408, 24.00507690560841, 23.114165114931907, 15.689701519718882]}, \"tinfo\": {\"Term\": [\"algorithm\", \"network\", \"problem\", \"method\", \"learning\", \"graph\", \"group\", \"function\", \"energy\", \"space\", \"data\", \"distribution\", \"equation\", \"optimal\", \"prove\", \"task\", \"theory\", \"proposed\", \"solution\", \"optimization\", \"temperature\", \"field\", \"phase\", \"set\", \"estimation\", \"deep\", \"mass\", \"paper\", \"training\", \"spin\", \"learning\", \"task\", \"training\", \"deep\", \"user\", \"human\", \"datasets\", \"architecture\", \"neural\", \"dataset\", \"inference\", \"neural_network\", \"robot\", \"learn\", \"real_world\", \"Learning\", \"trained\", \"classifier\", \"label\", \"community\", \"social\", \"Network\", \"software\", \"Deep\", \"attack\", \"learned\", \"visual\", \"query\", \"Networks\", \"train\", \"network\", \"image\", \"research\", \"feature\", \"state_art\", \"data\", \"classification\", \"knowledge\", \"information\", \"machine_learning\", \"model\", \"prediction\", \"approach\", \"based\", \"performance\", \"using\", \"propose\", \"method\", \"different\", \"paper\", \"system\", \"use\", \"work\", \"used\", \"framework\", \"proposed\", \"new\", \"show\", \"analysis\", \"result\", \"present\", \"time\", \"temperature\", \"mass\", \"spin\", \"wave\", \"particle\", \"magnetic\", \"material\", \"galaxy\", \"electron\", \"star\", \"optical\", \"band\", \"velocity\", \"gas\", \"ray\", \"electronic\", \"charge\", \"pressure\", \"thermal\", \"planet\", \"emission\", \"atom\", \"fluid\", \"magnetic_field\", \"molecule\", \"flux\", \"fluctuation\", \"excitation\", \"superconducting\", \"photon\", \"beam\", \"energy\", \"molecular\", \"phase\", \"formation\", \"coupling\", \"transition\", \"light\", \"spectrum\", \"effect\", \"quantum\", \"state\", \"field\", \"interaction\", \"density\", \"mode\", \"measurement\", \"surface\", \"low\", \"system\", \"frequency\", \"high\", \"find\", \"two\", \"model\", \"dynamic\", \"structure\", \"study\", \"result\", \"show\", \"time\", \"using\", \"property\", \"also\", \"optimal\", \"stochastic\", \"estimator\", \"variance\", \"posterior\", \"controller\", \"bit\", \"estimation\", \"Optimization\", \"recovery\", \"Stochastic\", \"low_rank\", \"Optimal\", \"optimality\", \"nonparametric\", \"solver\", \"maximum_likelihood\", \"minimization\", \"covariance\", \"gradient_descent\", \"regret\", \"minimax\", \"wireless\", \"least_squares\", \"PCA\", \"randomized\", \"chaotic\", \"SGD\", \"stochastic_gradient\", \"Markov_chain\", \"Gaussian\", \"multivariate\", \"convergence\", \"optimization\", \"sampling\", \"iteration\", \"Bayesian\", \"error\", \"random\", \"algorithm\", \"approximate\", \"guarantee\", \"scheme\", \"distribution\", \"approximation\", \"probability\", \"sparse\", \"problem\", \"regression\", \"kernel\", \"noise\", \"control\", \"gradient\", \"method\", \"linear\", \"numerical\", \"parameter\", \"rate\", \"time\", \"proposed\", \"function\", \"sample\", \"estimate\", \"model\", \"matrix\", \"based\", \"approach\", \"solution\", \"show\", \"number\", \"result\", \"paper\", \"process\", \"using\", \"data\", \"system\", \"two\", \"algebra\", \"manifold\", \"proof\", \"vertex\", \"conjecture\", \"algebraic\", \"Let\", \"subgroup\", \"hyperbolic\", \"rational\", \"equivalence\", \"singular\", \"mathbb\", \"elliptic\", \"bundle\", \"Laplacian\", \"geodesic\", \"knot\", \"Lie\", \"symplectic\", \"Theorem\", \"integrable\", \"cohomology\", \"automaton\", \"conformal\", \"homotopy\", \"genus\", \"quotient\", \"triangle\", \"unitary\", \"calculus\", \"closed\", \"formula\", \"theorem\", \"invariant\", \"polynomial\", \"operator\", \"prove\", \"group\", \"prime\", \"graph\", \"equation\", \"integral\", \"infinite\", \"singularity\", \"inequality\", \"integer\", \"give\", \"finite\", \"space\", \"notion\", \"theory\", \"family\", \"boundary\", \"geometric\", \"bounded\", \"function\", \"class\", \"dimension\", \"set\", \"solution\", \"type\", \"result\", \"case\", \"number\", \"show\", \"property\", \"one\", \"also\", \"paper\", \"point\", \"two\", \"study\", \"problem\", \"non\", \"structure\"], \"Freq\": [11907.0, 12048.0, 12972.0, 15791.0, 6681.0, 4668.0, 4278.0, 8898.0, 4627.0, 6323.0, 15742.0, 5739.0, 3977.0, 3294.0, 3162.0, 4657.0, 4484.0, 6737.0, 5379.0, 2810.0, 2492.0, 5452.0, 3223.0, 6677.0, 2323.0, 3421.0, 2355.0, 10298.0, 3345.0, 2308.0, 6681.633451173656, 4656.925161231918, 3345.038198482517, 3421.1111093509635, 3135.9487084419147, 2177.9964711586967, 1992.8803708330258, 1894.0124112523802, 1863.442983604073, 1757.685747453241, 1527.1139956321715, 1482.103588547478, 1454.000834325716, 1367.7901833108926, 1330.7769389613238, 1306.7765092398386, 1192.251524031653, 1177.1390690540316, 1168.228255738895, 1165.2332787580078, 1158.4274922478978, 937.9543749063567, 914.0716931018569, 857.1147202530893, 846.8828787293227, 833.8452325414355, 826.215695393422, 864.4246789969517, 1292.9789957761452, 791.9745903611686, 11908.559365061465, 3985.8090043072316, 2029.1297080651718, 4247.869974915877, 1990.5361854042962, 12163.592088548312, 2424.5896961856793, 1440.3353967506082, 3981.266714122629, 1642.241725209555, 12383.568897881114, 2259.154411466798, 6243.8055433021555, 7052.464625675354, 3972.192475747962, 5270.579041918432, 3376.3065725950523, 6665.727032656984, 3654.1619234462023, 4727.639841638317, 5153.872219049949, 3022.863953702327, 3155.197099402063, 3102.3085702485478, 2695.9151547768565, 3060.283875441301, 3205.5949315375533, 3747.459210760322, 2955.0359825214905, 3638.3253133926655, 2815.869794846871, 2875.979621686903, 2492.5238763344228, 2355.6124028310314, 2308.624337062717, 2087.940717892403, 1975.6128761677242, 1729.9691677576168, 1648.160107986744, 1546.117189790562, 1451.9926725461496, 1407.617697170778, 1320.4750960082006, 1230.9371851634494, 1194.1699325100533, 1166.5108782994764, 964.6285070870472, 897.1310193695489, 877.7164809043259, 875.4555110475692, 871.114220850843, 847.2884409133403, 841.4638499113388, 810.8081553714843, 780.2914594398122, 766.9188059488619, 703.6261130464679, 706.9822445234706, 697.5434811065151, 656.3032407256787, 637.9819864607814, 629.30378671381, 771.9808863268878, 4244.233983974949, 936.1623013788312, 2905.3974430087405, 1057.7419294032059, 1211.9160009385903, 1568.6052037336574, 1142.194813626459, 1864.0182016890055, 2865.935745099184, 2203.6231613445198, 3480.546565379489, 3177.697315721564, 2169.2057430907803, 2104.318773005593, 1232.4035196553698, 1760.1996614525315, 1845.199778815552, 2004.8080075435616, 4225.79410458471, 1457.2182970594654, 2565.2604086409647, 1986.683673768095, 3123.8657066729575, 4607.958922222903, 2077.907924905812, 2339.432102616126, 2482.7846561961287, 2478.462140198607, 2322.4055727556083, 2263.0108208124366, 2093.054531619347, 1895.2234239929746, 1911.6035651282982, 3293.965529439408, 1971.6909178044093, 1928.1477609734889, 843.3556586939061, 656.4590025340309, 503.23238447796047, 493.89552916998423, 2322.290360203265, 435.5396646061262, 418.94910922975066, 390.9704800872602, 383.01748502152014, 356.3573361064348, 347.7841180326172, 323.8210202669768, 316.7326951464861, 312.05429143288734, 303.31968213966337, 303.6582655856447, 295.2652861190214, 300.2715272546585, 277.90612221703697, 277.40107583006863, 270.97699559144087, 269.58342710327486, 256.1085658745369, 251.16844124135315, 249.17786584356597, 248.79782149212213, 246.033431940305, 1577.416286429987, 463.77623179996, 1882.049795534351, 2690.0344310074106, 1335.0344605510027, 562.5980740020743, 1519.5598274274448, 2361.1150416985934, 2335.874137908323, 9444.316618661453, 924.7131699092475, 834.8928802867182, 2107.801463088908, 4517.775763182772, 1993.0098241458572, 2033.8080246551754, 972.6320675177258, 8563.108375180189, 1176.4615784147793, 1099.3665227900076, 1647.9134172605663, 2292.0922251809484, 1247.6957324949856, 8425.278599971642, 2817.4095635576427, 1502.8540117381847, 3545.7291363713266, 2604.249959648054, 5358.4311234863535, 3576.628139796359, 4242.69817189411, 2252.6759432646804, 1900.9716355255866, 6877.4831761749565, 1908.423015567144, 3700.1550575668357, 3307.6106364773746, 2460.3161750261743, 3536.7434517523307, 2663.95768071929, 3285.599297864157, 2940.259983970359, 2254.8015804493784, 2494.717377955338, 2635.0257687799076, 2571.898067004553, 2375.8745214624673, 1602.4676803408236, 1337.0621986874073, 1285.9574834163564, 957.0409587811943, 820.3017598658463, 729.5824824869601, 609.554572730563, 469.7073610775574, 464.9653317874884, 463.39066956609594, 428.294808124573, 483.5053342477666, 361.02183219700436, 338.5152243332133, 279.71946483464177, 281.5419063919564, 276.3671267650109, 274.57956610283935, 273.4587645450909, 264.42877114198865, 261.21711556214996, 258.09492322933306, 251.32055347091566, 252.01692156971748, 249.2511506312457, 248.49733699308115, 242.01714838679584, 234.19648811634605, 230.1011983420219, 228.46297790322535, 228.71700625945002, 656.8053922006484, 1150.024612633424, 1457.2856232462873, 1236.3374444743415, 1699.2955909406628, 1752.1222180751438, 2669.0193795381556, 3431.6867205621593, 377.5588304987906, 3536.648810461953, 3053.8804970305196, 707.0800557858443, 768.2454665068389, 399.7395576347331, 650.9464016598532, 463.3430406695357, 1700.891522554794, 1980.9950635390833, 3816.4529438407662, 831.6674325446361, 2766.0797991406685, 1115.8260650599218, 1147.786781653819, 800.8588080574202, 812.3113762039802, 3512.166830471262, 2116.2716735717004, 1346.8136698890723, 2625.334046539292, 2282.4828883408322, 1983.7177275993229, 3713.2862088357397, 2078.8739002878337, 2402.1821223530274, 2993.581405036845, 1971.4743743381175, 2244.5435635956946, 2377.406733816351, 2511.836385722731, 1746.9304865603958, 2225.817590291214, 1995.3011843165827, 2166.710856818679, 1722.3423413956928, 1678.9309654468916], \"Total\": [11907.0, 12048.0, 12972.0, 15791.0, 6681.0, 4668.0, 4278.0, 8898.0, 4627.0, 6323.0, 15742.0, 5739.0, 3977.0, 3294.0, 3162.0, 4657.0, 4484.0, 6737.0, 5379.0, 2810.0, 2492.0, 5452.0, 3223.0, 6677.0, 2323.0, 3421.0, 2355.0, 10298.0, 3345.0, 2308.0, 6681.867256759373, 4657.15249034109, 3345.2604849503887, 3421.341281689817, 3136.222776955989, 2178.211361857711, 1993.0939973399568, 1894.22534982778, 1863.655426001873, 1757.8977620817652, 1527.3243705644668, 1482.3125195758744, 1454.2097297440616, 1367.998529677262, 1330.9848525221498, 1306.984321229139, 1192.4578272321135, 1177.345144155019, 1168.4348142837273, 1165.4395872198863, 1158.633797695781, 938.1577362029943, 914.275225401524, 857.3165910002853, 847.0855263993245, 834.0464343566024, 826.4170694874881, 864.6355491500293, 1293.2993492873734, 792.1753706243144, 12048.044979740032, 4192.349834781785, 2093.374758827761, 4839.267574435278, 2149.588192541189, 15742.791884172639, 2697.4529596534235, 1513.9754887609504, 5049.037370769264, 1778.7538357953222, 24299.716608265124, 2727.299822859815, 10252.501487937649, 12180.8477934887, 5874.342264892505, 10432.255613280282, 5494.819515202701, 15791.627887404124, 6370.7837963679785, 10298.04299231247, 13370.973043001126, 5200.974538736407, 5693.540751197722, 5720.743480779409, 4357.003972640303, 6737.1125924521075, 7697.105210618352, 12600.189640305105, 6290.408522820041, 13115.67296029117, 6422.451532288035, 11348.183277729584, 2492.7419935328076, 2355.829029943973, 2308.8409621540163, 2088.1548577682984, 1975.8270594370026, 1730.1814854490854, 1648.3719385978925, 1546.3284623583215, 1452.202414902296, 1407.8275796232037, 1320.683880702385, 1231.144207433883, 1194.3770662775582, 1166.7178445483041, 964.8314894921242, 897.3336921310879, 877.9184366799471, 875.6585686687579, 871.3169198161683, 847.4906340812399, 841.6660663365507, 811.0091703879448, 780.4918451799248, 767.1193467686011, 703.8247916053369, 707.182490178859, 697.7429302827826, 656.5017207500994, 638.1798026922008, 629.5016698201656, 772.2416662157991, 4627.694485847818, 954.3447994409079, 3223.5572474759842, 1091.3151900603316, 1287.1062781015924, 1804.0123006976303, 1236.058628515113, 2333.8470294313693, 4037.7912520915406, 3097.904231386628, 5910.750985725662, 5452.598298212457, 3205.7661329443363, 3126.7516044510876, 1437.2769286951725, 2588.4525615878306, 2808.170519991738, 3417.8008650108395, 13370.973043001126, 1971.9156847858576, 6085.526864998978, 3716.3831031401774, 10228.86431329289, 24299.716608265124, 4488.8055020734755, 6334.409580572393, 8721.618507556213, 13115.67296029117, 12600.189640305105, 11348.183277729584, 10432.255613280282, 5498.579039697882, 8998.004654925917, 3294.188563568475, 1971.9035667154176, 1928.3597363660695, 843.5568645847388, 656.6569334719348, 503.42668527985404, 494.08859732524525, 2323.2198256415095, 435.7317869371717, 419.1423026335186, 391.1607376906961, 383.20774679961875, 356.54632902385873, 347.97296172241266, 324.00989031325867, 316.9225447200553, 312.2425678109427, 303.50687635619187, 303.84808910368207, 295.4508652038045, 300.4606905960763, 278.0922124267178, 277.58739551346304, 271.16298367259554, 269.7706534666406, 256.29530337290794, 251.35434894974935, 249.3628840926947, 248.9837209207893, 246.21834228570572, 1579.3066792103832, 465.10587647659645, 1948.4468945517003, 2810.9984444610545, 1415.0884146970202, 579.9648162974147, 1649.5830326292828, 2681.960823758767, 2663.8048177756136, 11907.80301640891, 999.0861568332846, 896.2364691765958, 2453.4535830905825, 5739.4954212795255, 2357.627868235342, 2445.9905772088623, 1100.5922543368554, 12972.045825618396, 1369.5358786385536, 1315.1984783810462, 2119.232576462197, 3138.8995809622797, 1529.5020806136522, 15791.627887404124, 4309.72847679133, 1965.529047912063, 5811.097894148355, 4157.874844436242, 11348.183277729584, 6737.1125924521075, 8898.038356361523, 3732.3666497714835, 2894.628721369868, 24299.716608265124, 3026.700749464092, 12180.8477934887, 10252.501487937649, 5379.148917958064, 12600.189640305105, 7093.748070924516, 13115.67296029117, 10298.04299231247, 5146.086090464551, 10432.255613280282, 15742.791884172639, 13370.973043001126, 10228.86431329289, 1602.6790080572341, 1337.2705395154346, 1286.1659034106328, 957.2445349330428, 820.5031869776872, 729.7826047464049, 609.7516196018489, 469.90150971789, 465.1577046227055, 463.58453034070067, 428.48787781127135, 483.72726328750406, 361.2130000864539, 338.70522642309106, 279.90690519134716, 281.7307065548986, 276.55465607602946, 274.76670575051077, 273.64681617297066, 264.61545907591056, 261.40424508012944, 258.2829868129839, 251.50607096856336, 252.2048137860575, 249.43736515427145, 248.68368402750264, 242.2023560034115, 234.38184896571366, 230.28498217736646, 228.64647548361464, 228.9029658381282, 670.8344420816826, 1188.6482309305056, 1515.5718281516504, 1295.7822055562538, 1878.2327237540508, 1947.007530471391, 3162.312632994566, 4278.941550840244, 390.8186883333938, 4668.4773328912825, 3977.3892720109698, 795.3763576347014, 879.4957844905488, 421.24123378588644, 744.1437822041754, 505.6503887861684, 2354.119252293115, 2832.865049565172, 6323.3579536473, 1015.4380236562076, 4484.841324446404, 1480.3806287867924, 1606.8051463524096, 997.9448109306251, 1026.1857534469823, 8898.038356361523, 4291.891085227594, 2223.393124678198, 6677.104663931324, 5379.148917958064, 4326.594117786512, 13115.67296029117, 5335.066624567801, 7093.748070924516, 12600.189640305105, 5498.579039697882, 7723.906106592616, 8998.004654925917, 10298.04299231247, 4517.812722745222, 10228.86431329289, 8721.618507556213, 12972.045825618396, 5509.829630412877, 6334.409580572393], \"Category\": [\"Default\", \"Default\", \"Default\", \"Default\", \"Default\", \"Default\", \"Default\", \"Default\", \"Default\", \"Default\", \"Default\", \"Default\", \"Default\", \"Default\", \"Default\", \"Default\", \"Default\", \"Default\", \"Default\", \"Default\", \"Default\", \"Default\", \"Default\", \"Default\", \"Default\", \"Default\", \"Default\", \"Default\", \"Default\", \"Default\", \"Topic1\", \"Topic1\", \"Topic1\", \"Topic1\", \"Topic1\", \"Topic1\", \"Topic1\", \"Topic1\", \"Topic1\", \"Topic1\", \"Topic1\", \"Topic1\", \"Topic1\", \"Topic1\", \"Topic1\", \"Topic1\", \"Topic1\", \"Topic1\", \"Topic1\", \"Topic1\", \"Topic1\", \"Topic1\", \"Topic1\", \"Topic1\", \"Topic1\", \"Topic1\", \"Topic1\", \"Topic1\", \"Topic1\", \"Topic1\", \"Topic1\", \"Topic1\", \"Topic1\", \"Topic1\", \"Topic1\", \"Topic1\", \"Topic1\", \"Topic1\", \"Topic1\", \"Topic1\", \"Topic1\", \"Topic1\", \"Topic1\", \"Topic1\", \"Topic1\", \"Topic1\", \"Topic1\", \"Topic1\", \"Topic1\", \"Topic1\", \"Topic1\", \"Topic1\", \"Topic1\", \"Topic1\", \"Topic1\", \"Topic1\", \"Topic1\", \"Topic1\", \"Topic1\", \"Topic1\", \"Topic1\", \"Topic1\", \"Topic2\", \"Topic2\", \"Topic2\", \"Topic2\", \"Topic2\", \"Topic2\", \"Topic2\", \"Topic2\", \"Topic2\", \"Topic2\", \"Topic2\", \"Topic2\", \"Topic2\", \"Topic2\", \"Topic2\", \"Topic2\", \"Topic2\", \"Topic2\", \"Topic2\", \"Topic2\", \"Topic2\", \"Topic2\", \"Topic2\", \"Topic2\", \"Topic2\", \"Topic2\", \"Topic2\", \"Topic2\", \"Topic2\", \"Topic2\", \"Topic2\", \"Topic2\", \"Topic2\", \"Topic2\", \"Topic2\", \"Topic2\", \"Topic2\", \"Topic2\", \"Topic2\", \"Topic2\", \"Topic2\", \"Topic2\", \"Topic2\", \"Topic2\", \"Topic2\", \"Topic2\", \"Topic2\", \"Topic2\", \"Topic2\", \"Topic2\", \"Topic2\", \"Topic2\", \"Topic2\", \"Topic2\", \"Topic2\", \"Topic2\", \"Topic2\", \"Topic2\", \"Topic2\", \"Topic2\", \"Topic2\", \"Topic2\", \"Topic2\", \"Topic2\", \"Topic3\", \"Topic3\", \"Topic3\", \"Topic3\", \"Topic3\", \"Topic3\", \"Topic3\", \"Topic3\", \"Topic3\", \"Topic3\", \"Topic3\", \"Topic3\", \"Topic3\", \"Topic3\", \"Topic3\", \"Topic3\", \"Topic3\", \"Topic3\", \"Topic3\", \"Topic3\", \"Topic3\", \"Topic3\", \"Topic3\", \"Topic3\", \"Topic3\", \"Topic3\", \"Topic3\", \"Topic3\", \"Topic3\", \"Topic3\", \"Topic3\", \"Topic3\", \"Topic3\", \"Topic3\", \"Topic3\", \"Topic3\", \"Topic3\", \"Topic3\", \"Topic3\", \"Topic3\", \"Topic3\", \"Topic3\", \"Topic3\", \"Topic3\", \"Topic3\", \"Topic3\", \"Topic3\", \"Topic3\", \"Topic3\", \"Topic3\", \"Topic3\", \"Topic3\", \"Topic3\", \"Topic3\", \"Topic3\", \"Topic3\", \"Topic3\", \"Topic3\", \"Topic3\", \"Topic3\", \"Topic3\", \"Topic3\", \"Topic3\", \"Topic3\", \"Topic3\", \"Topic3\", \"Topic3\", \"Topic3\", \"Topic3\", \"Topic3\", \"Topic3\", \"Topic3\", \"Topic3\", \"Topic3\", \"Topic3\", \"Topic3\", \"Topic3\", \"Topic4\", \"Topic4\", \"Topic4\", \"Topic4\", \"Topic4\", \"Topic4\", \"Topic4\", \"Topic4\", \"Topic4\", \"Topic4\", \"Topic4\", \"Topic4\", \"Topic4\", \"Topic4\", \"Topic4\", \"Topic4\", \"Topic4\", \"Topic4\", \"Topic4\", \"Topic4\", \"Topic4\", \"Topic4\", \"Topic4\", \"Topic4\", \"Topic4\", \"Topic4\", \"Topic4\", \"Topic4\", \"Topic4\", \"Topic4\", \"Topic4\", \"Topic4\", \"Topic4\", \"Topic4\", \"Topic4\", \"Topic4\", \"Topic4\", \"Topic4\", \"Topic4\", \"Topic4\", \"Topic4\", \"Topic4\", \"Topic4\", \"Topic4\", \"Topic4\", \"Topic4\", \"Topic4\", \"Topic4\", \"Topic4\", \"Topic4\", \"Topic4\", \"Topic4\", \"Topic4\", \"Topic4\", \"Topic4\", \"Topic4\", \"Topic4\", \"Topic4\", \"Topic4\", \"Topic4\", \"Topic4\", \"Topic4\", \"Topic4\", \"Topic4\", \"Topic4\", \"Topic4\", \"Topic4\", \"Topic4\", \"Topic4\", \"Topic4\", \"Topic4\", \"Topic4\", \"Topic4\", \"Topic4\", \"Topic4\", \"Topic4\"], \"logprob\": [30.0, 29.0, 28.0, 27.0, 26.0, 25.0, 24.0, 23.0, 22.0, 21.0, 20.0, 19.0, 18.0, 17.0, 16.0, 15.0, 14.0, 13.0, 12.0, 11.0, 10.0, 9.0, 8.0, 7.0, 6.0, 5.0, 4.0, 3.0, 2.0, 1.0, -4.9308, -5.2919, -5.6227, -5.6002, -5.6873, -6.0518, -6.1406, -6.1915, -6.2078, -6.2662, -6.4068, -6.4367, -6.4559, -6.517, -6.5444, -6.5626, -6.6544, -6.6671, -6.6747, -6.6773, -6.6831, -6.8943, -6.9201, -6.9844, -6.9964, -7.0119, -7.0211, -6.9759, -6.5733, -7.0634, -4.353, -5.4475, -6.1226, -5.3838, -6.1418, -4.3318, -5.9445, -6.4653, -5.4486, -6.3341, -4.3138, -6.0152, -4.9986, -4.8768, -5.4509, -5.1681, -5.6134, -4.9332, -5.5343, -5.2768, -5.1905, -5.724, -5.6812, -5.6981, -5.8385, -5.7117, -5.6653, -5.5091, -5.7467, -5.5387, -5.7949, -5.7738, -5.4791, -5.5356, -5.5558, -5.6562, -5.7115, -5.8443, -5.8927, -5.9567, -6.0195, -6.0505, -6.1144, -6.1846, -6.215, -6.2384, -6.4284, -6.501, -6.5228, -6.5254, -6.5304, -6.5581, -6.565, -6.6021, -6.6405, -6.6578, -6.7439, -6.7392, -6.7526, -6.8135, -6.8419, -6.8555, -6.6512, -4.9468, -6.4584, -5.3258, -6.3363, -6.2002, -5.9422, -6.2595, -5.7697, -5.3395, -5.6023, -5.1452, -5.2363, -5.618, -5.6484, -6.1834, -5.827, -5.7798, -5.6969, -4.9512, -6.0159, -5.4503, -5.7059, -5.2533, -4.8646, -5.661, -5.5425, -5.483, -5.4848, -5.5498, -5.5757, -5.6538, -5.7531, -5.7445, -5.1625, -5.6757, -5.698, -6.525, -6.7755, -7.0413, -7.06, -5.512, -7.1858, -7.2246, -7.2937, -7.3143, -7.3864, -7.4108, -7.4822, -7.5043, -7.5192, -7.5476, -7.5464, -7.5745, -7.5577, -7.6351, -7.6369, -7.6603, -7.6655, -7.7167, -7.7362, -7.7442, -7.7457, -7.7569, -5.8988, -7.1229, -5.7222, -5.365, -6.0656, -6.9298, -5.9362, -5.4955, -5.5062, -4.1092, -6.4329, -6.535, -5.6089, -4.8466, -5.6649, -5.6447, -6.3823, -4.2071, -6.1921, -6.2599, -5.8551, -5.5251, -6.1333, -4.2234, -5.3188, -5.9472, -5.0888, -5.3974, -4.6759, -5.0802, -4.9094, -5.5425, -5.7122, -4.4263, -5.7083, -5.0462, -5.1584, -5.4543, -5.0914, -5.3748, -5.165, -5.2761, -5.5415, -5.4404, -5.3857, -5.4099, -5.4892, -5.4956, -5.6767, -5.7156, -6.0111, -6.1652, -6.2824, -6.4622, -6.7228, -6.7329, -6.7363, -6.8151, -6.6938, -6.986, -7.0503, -7.2411, -7.2346, -7.2532, -7.2597, -7.2638, -7.2973, -7.3096, -7.3216, -7.3482, -7.3454, -7.3564, -7.3595, -7.3859, -7.4187, -7.4364, -7.4435, -7.4424, -6.3875, -5.8274, -5.5906, -5.755, -5.4369, -5.4063, -4.9854, -4.7341, -6.9412, -4.704, -4.8507, -6.3138, -6.2308, -6.8841, -6.3965, -6.7364, -5.436, -5.2835, -4.6278, -6.1515, -4.9497, -5.8576, -5.8293, -6.1892, -6.175, -4.7109, -5.2175, -5.6694, -5.0019, -5.1419, -5.2822, -4.6552, -5.2353, -5.0908, -4.8707, -5.2884, -5.1586, -5.1011, -5.0461, -5.4093, -5.167, -5.2764, -5.1939, -5.4235, -5.449], \"loglift\": [30.0, 29.0, 28.0, 27.0, 26.0, 25.0, 24.0, 23.0, 22.0, 21.0, 20.0, 19.0, 18.0, 17.0, 16.0, 15.0, 14.0, 13.0, 12.0, 11.0, 10.0, 9.0, 8.0, 7.0, 6.0, 5.0, 4.0, 3.0, 2.0, 1.0, 0.9891, 0.9891, 0.989, 0.989, 0.989, 0.989, 0.989, 0.989, 0.989, 0.989, 0.989, 0.989, 0.989, 0.9889, 0.9889, 0.9889, 0.9889, 0.9889, 0.9889, 0.9889, 0.9889, 0.9889, 0.9889, 0.9889, 0.9889, 0.9889, 0.9889, 0.9889, 0.9889, 0.9888, 0.9775, 0.9386, 0.9579, 0.8588, 0.9122, 0.7312, 0.8825, 0.9392, 0.7515, 0.9093, 0.315, 0.8008, 0.4932, 0.4426, 0.5978, 0.3063, 0.5021, 0.1266, 0.4332, 0.2106, 0.0358, 0.4465, 0.3988, 0.3771, 0.5091, 0.2, 0.1132, -0.2235, 0.2336, -0.2932, 0.1646, -0.3836, 1.4268, 1.4268, 1.4268, 1.4268, 1.4268, 1.4268, 1.4268, 1.4268, 1.4268, 1.4268, 1.4267, 1.4267, 1.4267, 1.4267, 1.4267, 1.4267, 1.4267, 1.4267, 1.4267, 1.4267, 1.4267, 1.4267, 1.4266, 1.4266, 1.4266, 1.4266, 1.4266, 1.4266, 1.4266, 1.4266, 1.4266, 1.3404, 1.4077, 1.323, 1.3957, 1.3667, 1.2871, 1.3479, 1.2021, 1.0841, 1.0863, 0.8973, 0.887, 1.0363, 1.0309, 1.2731, 1.0413, 1.007, 0.8935, 0.275, 1.1244, 0.5631, 0.8006, 0.2408, -0.2358, 0.6567, 0.4308, 0.1705, -0.2393, -0.2642, -0.1855, -0.1794, 0.3618, -0.1222, 1.4647, 1.4646, 1.4646, 1.4645, 1.4644, 1.4643, 1.4643, 1.4643, 1.4643, 1.4643, 1.4642, 1.4642, 1.4642, 1.4642, 1.4641, 1.4641, 1.4641, 1.4641, 1.4641, 1.4641, 1.4641, 1.4641, 1.4641, 1.464, 1.464, 1.464, 1.464, 1.464, 1.464, 1.464, 1.4635, 1.4619, 1.4301, 1.4207, 1.4065, 1.4343, 1.3826, 1.3373, 1.3334, 1.2329, 1.3874, 1.3938, 1.3129, 1.2254, 1.2967, 1.2802, 1.3411, 1.0494, 1.3128, 1.2855, 1.2132, 1.1503, 1.2611, 0.8365, 1.0397, 1.1963, 0.9707, 0.9969, 0.7143, 0.8315, 0.7241, 0.9598, 1.0442, 0.2025, 1.0035, 0.2732, 0.3334, 0.6825, 0.1942, 0.4853, 0.0805, 0.2113, 0.6396, 0.034, -0.3228, -0.1837, 0.0049, 1.852, 1.852, 1.852, 1.852, 1.8519, 1.8519, 1.8518, 1.8518, 1.8518, 1.8517, 1.8517, 1.8517, 1.8516, 1.8516, 1.8515, 1.8515, 1.8515, 1.8515, 1.8515, 1.8515, 1.8514, 1.8514, 1.8514, 1.8514, 1.8514, 1.8514, 1.8514, 1.8514, 1.8514, 1.8514, 1.8514, 1.831, 1.8191, 1.8129, 1.8052, 1.752, 1.7467, 1.6826, 1.6315, 1.8176, 1.5745, 1.588, 1.7345, 1.7169, 1.7998, 1.7184, 1.7648, 1.5272, 1.4945, 1.3472, 1.6525, 1.3689, 1.5695, 1.5158, 1.6322, 1.6184, 0.9226, 1.1451, 1.3509, 0.9187, 0.9949, 1.0724, 0.5903, 0.9097, 0.7693, 0.4149, 0.8265, 0.6163, 0.5212, 0.4412, 0.902, 0.3271, 0.3772, 0.0626, 0.6893, 0.5243]}, \"token.table\": {\"Topic\": [1, 3, 1, 3, 4, 4, 1, 4, 4, 3, 1, 1, 3, 3, 3, 3, 3, 4, 4, 4, 1, 2, 3, 4, 1, 2, 3, 4, 1, 2, 3, 4, 1, 2, 3, 4, 3, 4, 1, 2, 3, 4, 1, 2, 1, 4, 2, 1, 2, 3, 4, 2, 3, 1, 2, 3, 4, 3, 4, 4, 4, 1, 2, 3, 4, 3, 2, 1, 2, 3, 4, 1, 4, 1, 2, 4, 4, 1, 4, 4, 1, 2, 3, 4, 3, 3, 4, 2, 3, 3, 1, 2, 3, 4, 1, 1, 1, 1, 2, 3, 4, 1, 2, 3, 4, 1, 2, 3, 4, 1, 2, 3, 4, 1, 2, 3, 4, 1, 2, 3, 4, 2, 2, 4, 2, 2, 3, 1, 2, 3, 4, 4, 1, 3, 1, 2, 3, 4, 1, 3, 3, 2, 1, 2, 3, 4, 1, 2, 3, 4, 1, 2, 3, 4, 1, 2, 3, 4, 1, 2, 3, 4, 2, 2, 2, 1, 2, 3, 4, 1, 2, 3, 4, 1, 2, 3, 4, 1, 2, 3, 4, 2, 2, 4, 4, 1, 2, 3, 4, 1, 2, 3, 4, 1, 2, 3, 4, 3, 1, 4, 1, 2, 3, 4, 1, 3, 1, 2, 3, 4, 4, 1, 4, 1, 2, 3, 4, 3, 4, 1, 3, 4, 1, 2, 3, 4, 3, 4, 4, 1, 2, 3, 4, 1, 2, 1, 3, 4, 3, 4, 1, 3, 4, 4, 1, 3, 1, 1, 1, 1, 3, 1, 2, 3, 1, 2, 3, 4, 1, 2, 3, 4, 3, 1, 3, 2, 2, 4, 2, 2, 4, 3, 4, 3, 1, 2, 3, 4, 1, 2, 3, 4, 3, 3, 1, 2, 3, 4, 1, 2, 3, 4, 1, 2, 2, 3, 4, 1, 3, 1, 1, 1, 2, 3, 4, 1, 2, 3, 4, 1, 2, 3, 4, 3, 1, 2, 3, 4, 1, 2, 3, 4, 1, 2, 3, 4, 1, 2, 3, 4, 3, 4, 2, 3, 3, 1, 3, 1, 2, 3, 4, 1, 2, 3, 4, 2, 1, 3, 1, 2, 3, 4, 2, 2, 1, 2, 3, 4, 3, 4, 3, 1, 2, 3, 4, 1, 2, 3, 4, 2, 2, 4, 1, 2, 3, 4, 1, 2, 3, 4, 1, 2, 3, 4, 4, 1, 2, 3, 4, 1, 2, 3, 4, 1, 2, 3, 4, 3, 4, 2, 4, 1, 4, 1, 2, 3, 4, 3, 1, 2, 3, 4, 4, 2, 1, 3, 1, 3, 3, 1, 2, 1, 2, 3, 4, 1, 1, 2, 3, 4, 1, 3, 1, 2, 3, 4, 1, 2, 3, 4, 1, 2, 3, 4, 4, 2, 4, 1, 1, 1, 2, 3, 4, 3, 1, 2, 3, 4, 1, 3, 1, 2, 3, 4, 2, 2, 1, 2, 3, 4, 1, 3, 3, 3, 1, 2, 3, 4, 1, 2, 3, 4, 4, 2, 2, 4, 4, 1, 2, 3, 4, 1, 2, 3, 4, 1, 2, 3, 4, 2, 1, 2, 3, 4, 1, 1, 1, 1, 2, 3, 4, 4, 1, 2, 3, 4, 1, 2, 3, 4, 4, 1, 2, 3, 4, 1, 2, 3, 4, 1, 1, 2, 3, 4, 3, 2, 4, 1, 2, 3, 1, 2, 3, 4], \"Freq\": [0.07880779410830385, 0.921444977266322, 0.9996307186824462, 0.9985394355379181, 0.001266378485146377, 1.0009558540792178, 1.0000119961430343, 1.0004073468444632, 0.9976363102556186, 0.9991132168152917, 0.999831866010472, 0.9997685382834699, 0.9984677193974919, 1.0006155462393818, 1.0008501537525012, 0.9985447549902422, 0.9995890750906007, 0.9984535634453621, 0.9995763293499069, 1.000297890429535, 0.20675518368983536, 8.39785473963588e-05, 0.7930934016112126, 8.39785473963588e-05, 0.30340059876558007, 0.21249155488636964, 0.21993765016742967, 0.2641696788519355, 0.4697628125868127, 0.16628490760264164, 0.33829281393730537, 0.025753494294099375, 0.6090221013229054, 0.04506217341626878, 0.3226529646342362, 0.023311384083307875, 0.9258460781119129, 0.07406768624895303, 0.0004241551491111652, 0.061078341472007795, 0.8453412121785523, 0.09331413280445634, 0.9998810332530917, 0.9999886926211446, 0.999899034516989, 0.9991879069119146, 0.9998828671466655, 0.5789416401516537, 0.09966465557914175, 0.3037555400682244, 0.017650659760721152, 0.9996870588232006, 0.999820685347274, 0.014936471951488414, 0.23773884522785724, 0.032984708892870244, 0.7144612416795291, 0.20756476036090732, 0.7912797437232711, 1.0003325920401613, 1.0004239095877, 0.14638992443009455, 0.14901407160297717, 0.314897660745914, 0.3896858551730686, 0.998590241421205, 1.0000929053504803, 0.2691121412599294, 0.007455920796811897, 0.23043455212646768, 0.4930227626891867, 0.8989962146778534, 0.10083586407933036, 0.9997068453913176, 0.020869530724385976, 0.9793772632801133, 0.99798783796107, 0.9996228142370426, 0.9982465932720186, 0.999386733670663, 0.20962760452447465, 0.059893601292707044, 0.7301922029940667, 0.0006371659711990112, 0.9991524380960917, 0.965897508042174, 0.033873132588088994, 0.9416471822261874, 0.05827024642488784, 1.000499956727607, 0.7726710795325539, 0.05926521844819736, 0.16737818929367637, 0.000698732479024835, 1.0000581591947155, 0.9999528384812346, 0.9999002491532653, 0.000639641472367968, 0.6729028289311023, 0.24946017422350752, 0.07675697668415617, 0.573555800478297, 0.27720294024211073, 0.08978487079189543, 0.05933335867016866, 0.04767487981476144, 0.020689098787537986, 0.32607818741228345, 0.6058307840611666, 0.04686823148297432, 0.1622093810804799, 0.787177211301405, 0.0036588582198604485, 0.2664405930369543, 0.4629293915809289, 0.2579750892448102, 0.01247547927263331, 0.1713808260002421, 0.7097939990125633, 0.11838155321982041, 0.0004953203063590812, 0.9998606152281398, 0.9996281292745228, 1.000870295330314, 0.9992086334911305, 0.917087334304109, 0.08276259402414556, 0.0002514212041142253, 0.11238527823905871, 0.11942507195425701, 0.767840357364844, 0.9988613964675886, 0.1193156876734389, 0.8803260581155914, 0.0860213947860512, 0.1095131813139688, 0.6567336204348728, 0.1475146006973649, 0.0004304370981010678, 0.9994749417906794, 0.999813449555451, 0.9992357662832534, 0.054040155919604226, 0.04323212473568338, 0.14861042877891162, 0.7538601750784789, 0.8778187886202435, 0.12150599051523145, 0.0006199285230368951, 0.00020664284101229837, 0.11664163857596148, 0.5828413952742226, 0.008252946125657652, 0.29233769165107326, 0.2620827759056954, 0.5346596260006332, 0.12377625966798757, 0.07964733230809634, 0.00035299951903938883, 0.055420924489184044, 0.24498166621333584, 0.6992920472170292, 1.000368430414785, 0.9993698266254001, 0.9997419475433946, 0.03023874339930671, 0.9694724398929242, 0.03196908808777899, 0.9674855605512064, 0.6187738218577409, 0.026164768431670052, 0.31696092284330124, 0.03809957508471253, 0.04411953344214505, 0.7388754048874177, 0.2165406986183441, 0.0005071210740476442, 0.05248347796412061, 0.07597180107868423, 0.4768466745219781, 0.3946937357815666, 0.9997875856479932, 1.0002418369214239, 0.9991645167836078, 0.997994407022831, 0.04910091165693367, 0.06713798124519503, 0.08116681314717607, 0.80264959667763, 0.06924033259624547, 0.04927532871880046, 0.15887045638647734, 0.722563225436893, 0.03138276214749698, 0.12030058823207176, 0.8159518158349215, 0.03269037723697602, 0.9984739756863008, 0.24226314477991667, 0.757634609271941, 0.15961891320199995, 0.03762612741657685, 0.0007011079642840407, 0.8020675111409427, 0.06806239435451991, 0.9316737587872809, 0.3127091609676625, 0.4214918538528924, 0.26521943552380833, 0.0006572972379772201, 0.9972507885663017, 0.9999029654048216, 0.9996609652572918, 0.9507794332739588, 0.028385035765078045, 0.0002385297123115802, 0.020513555258795897, 0.12497584771121961, 0.8748309339785373, 0.9997876216927338, 0.12620867769627475, 0.8732276078444957, 0.7884671290110614, 0.025945539789110537, 0.1841935267471206, 0.0013864028894944563, 0.08306134224641354, 0.915652415716416, 0.9989043536452953, 0.0012572664379587677, 0.05783425614610332, 0.052805190394268245, 0.8888873716368488, 0.3231676788127042, 0.6765933352748604, 0.04244540460901729, 0.003086938517019439, 0.9538640017590067, 0.97074854228965, 0.02931212294657913, 0.0007603415122795441, 0.8356153219952189, 0.16271308362782244, 1.0008490630218534, 0.9511382520324074, 0.048217425276642877, 0.9996278660320526, 1.0000010747984782, 0.9999443264131472, 1.0000198661894237, 0.9993989457174866, 0.06795794152653573, 0.9239043955155215, 0.008090231134111397, 0.0018562654336767275, 0.0895648071749021, 0.6536374658334176, 0.25477243077213085, 0.22236520792664427, 0.586634528806476, 0.18491422553899892, 0.006144301797973066, 0.9994578742174349, 0.9231181779944405, 0.07645802205069666, 0.999895106120016, 0.9998444221631174, 0.9997976927574187, 1.0000725732019826, 0.9997743600281082, 0.9994103199873677, 0.630389377059437, 0.3693791003943661, 0.9992231430434252, 0.05563169367557051, 0.6799429227014173, 0.26425054495895994, 0.00038633120608035077, 0.42212240862875205, 0.02311351322374655, 0.5335105449590813, 0.021277097104599563, 0.9996684106113107, 0.9983299345231408, 0.01600248326596356, 0.8571764949420482, 0.12593258570171323, 0.0006957601419984156, 0.5096355731073752, 0.18963184115623263, 0.28300741571862237, 0.017736832365090334, 0.018861107652648285, 0.9807775979377108, 1.0002489375150645, 0.9976223123969664, 0.002150048087062428, 0.98845912511334, 0.011537141522441369, 0.9996483115962702, 0.9997891675528965, 0.4165202257567223, 0.14265103177819125, 0.25490102399709585, 0.18591404961256072, 0.11749536259756607, 0.10428303266691608, 0.7776399902039715, 0.0004718689260946429, 0.0733235012875936, 0.22450784923948836, 0.38966722095164225, 0.31253234954761433, 0.9999694752735816, 0.09355568511994557, 0.0009847966854731112, 0.0876469050071069, 0.8193508423136285, 0.2117357403988336, 0.074149799899991, 0.37554195234520155, 0.33860802159653686, 0.0005087688737351795, 0.18315679454466463, 0.7646796172239748, 0.05138565624725313, 0.27330730991126234, 0.21349301470567106, 0.22255578670651824, 0.2906560448843126, 0.0996400871408189, 0.899842436446983, 0.9994821768385472, 0.9999427587204448, 1.000077702237132, 0.04268945798830112, 0.9569553499044169, 0.45911635866440553, 0.011458487800845992, 0.2854911367329425, 0.24392984199767062, 0.06401544196572487, 0.2644939094121482, 0.610211712931345, 0.06143417414452628, 1.000087528188346, 0.6761608059064437, 0.32361069789228336, 0.028850115837966938, 0.9011783495623006, 0.06917823475125405, 0.0003102162993329778, 0.9992030683249674, 0.9994210743322588, 0.12174032740024596, 0.15914780981959425, 0.3324617668275808, 0.3866915490331449, 0.09476993864968386, 0.9045737402573757, 0.9989995788691951, 0.8282917708810024, 0.1305320364912071, 0.04069959564753929, 0.0003666630238517053, 0.4384618530545428, 0.26220517064767407, 0.17672379375600358, 0.12269458103941043, 0.999247916148689, 0.03326350655194399, 0.967200421279602, 0.05519236306872837, 0.026574100736795142, 0.8315649369021741, 0.08708128395288253, 0.17244774109432806, 0.00046253305613141185, 0.6601117599422133, 0.16705152210612825, 0.3701842461457987, 0.18382902721990843, 0.4381970997683864, 0.0077728975568671635, 0.9998710093229863, 0.09838905580772103, 0.344634493078801, 0.19841489812610655, 0.3584562458355234, 0.6143968861323849, 0.02456859586133648, 0.3523318636114624, 0.008553511151724553, 0.45420051364857056, 0.01439785941957887, 0.5309396200395219, 0.0005937261616321183, 0.15589856450503803, 0.8440025733548611, 0.7114487199668807, 0.2885821940337529, 0.9992649513998655, 0.9983708253544432, 0.019145546873282966, 0.0015016115194731738, 0.8769411273723335, 0.10210958332417581, 0.9988478002951218, 0.07335478132732356, 0.2996723197830989, 0.62628147729951, 0.0004810149595234332, 0.9987391073203605, 1.0001746527862234, 1.000011380653823, 0.9996604908819164, 0.14092365377960014, 0.8586850613720712, 0.9984667192398369, 0.9692483352269856, 0.030572643397992646, 0.27737806599892806, 0.18893426265677396, 0.2505399463640675, 0.28309641535294666, 0.9998557775128498, 0.181922105654216, 0.2140732878022365, 0.6036384448290849, 0.0005358530358003416, 0.056533570036419616, 0.9434039499827523, 0.07051284817138224, 0.0065214194840584735, 0.8591970170247039, 0.06399142868732377, 0.36422972566796563, 0.02186576478105386, 0.22075436498132459, 0.39313446952237247, 0.29737647662176525, 0.18428294067673845, 0.28071006079828764, 0.2376154713118669, 1.0005638233219323, 0.04985266948172062, 0.9495746567946785, 0.9994529784155776, 0.9996989687635874, 0.0758484299696387, 0.042385887335974565, 0.4573214159934098, 0.4242306793890086, 1.000244398138394, 0.16921389044294516, 0.08397436993009708, 0.1434364473193937, 0.603476827972223, 0.11630101837953093, 0.8840694600256531, 0.010711927424862601, 0.7986813087977556, 0.02228080904371421, 0.1688199762158346, 1.0000688821138357, 1.0001224726516882, 0.089497933727461, 0.5889268569098142, 0.2419320325713974, 0.07968530583295676, 0.9262239190318077, 0.07396765601509664, 1.0000489036513804, 1.0000653821026952, 0.307526688197509, 0.369253040910664, 0.0580953907888518, 0.26506022047413635, 0.3064798119390539, 0.2846948645883542, 0.18012711730499575, 0.2287419471823466, 1.000209597713719, 0.9997182569999202, 0.6570113840542092, 0.342571789409295, 0.9976741378676066, 0.385461849592001, 0.31605777578110134, 0.19235698043279523, 0.10612541027765802, 0.9999672567429548, 1.0001035030772787, 0.038269383821112064, 0.9613533142648323, 0.004905413237271136, 0.2564193283119003, 0.12196641094487778, 0.6167442279223618, 0.9996362749202263, 0.25343263583379466, 0.1994151790305554, 0.4721460579963393, 0.07498997673663396, 0.9997786214633558, 0.9996160642148862, 0.9999221331338589, 0.01607527841622, 0.8697279943120406, 0.10809238935044482, 0.0066518393446427584, 0.9987624804072245, 0.2446996971840983, 0.30541024930208677, 0.2322838515818688, 0.2176194670123064, 0.24129834497489475, 0.24176060234074703, 0.058475556780314526, 0.4585593069254704, 0.997172598080739, 0.5812372234251405, 0.12228477475963921, 0.1757362958023746, 0.12074660149222237, 0.5422372127717524, 0.16868436825426858, 0.23493449837692948, 0.054188760786345345, 0.9999289664759704, 0.5052598589791077, 0.20062775276859654, 0.23916208464292804, 0.05502165794991611, 0.9993398612374366, 0.9996842987962474, 0.9997445428789417, 0.9994953280820461, 0.9999258399022839, 0.9978839258447721, 0.5541367205172455, 0.11574519772452133, 0.19882179639477715, 0.13137694673435804], \"Term\": [\"Bayesian\", \"Bayesian\", \"Deep\", \"Gaussian\", \"Gaussian\", \"Laplacian\", \"Learning\", \"Let\", \"Lie\", \"Markov_chain\", \"Network\", \"Networks\", \"Optimal\", \"Optimization\", \"PCA\", \"SGD\", \"Stochastic\", \"Theorem\", \"algebra\", \"algebraic\", \"algorithm\", \"algorithm\", \"algorithm\", \"algorithm\", \"also\", \"also\", \"also\", \"also\", \"analysis\", \"analysis\", \"analysis\", \"analysis\", \"approach\", \"approach\", \"approach\", \"approach\", \"approximate\", \"approximate\", \"approximation\", \"approximation\", \"approximation\", \"approximation\", \"architecture\", \"atom\", \"attack\", \"automaton\", \"band\", \"based\", \"based\", \"based\", \"based\", \"beam\", \"bit\", \"boundary\", \"boundary\", \"boundary\", \"boundary\", \"bounded\", \"bounded\", \"bundle\", \"calculus\", \"case\", \"case\", \"case\", \"case\", \"chaotic\", \"charge\", \"class\", \"class\", \"class\", \"class\", \"classification\", \"classification\", \"classifier\", \"closed\", \"closed\", \"cohomology\", \"community\", \"conformal\", \"conjecture\", \"control\", \"control\", \"control\", \"control\", \"controller\", \"convergence\", \"convergence\", \"coupling\", \"coupling\", \"covariance\", \"data\", \"data\", \"data\", \"data\", \"dataset\", \"datasets\", \"deep\", \"density\", \"density\", \"density\", \"density\", \"different\", \"different\", \"different\", \"different\", \"dimension\", \"dimension\", \"dimension\", \"dimension\", \"distribution\", \"distribution\", \"distribution\", \"distribution\", \"dynamic\", \"dynamic\", \"dynamic\", \"dynamic\", \"effect\", \"effect\", \"effect\", \"effect\", \"electron\", \"electronic\", \"elliptic\", \"emission\", \"energy\", \"energy\", \"equation\", \"equation\", \"equation\", \"equation\", \"equivalence\", \"error\", \"error\", \"estimate\", \"estimate\", \"estimate\", \"estimate\", \"estimation\", \"estimation\", \"estimator\", \"excitation\", \"family\", \"family\", \"family\", \"family\", \"feature\", \"feature\", \"feature\", \"feature\", \"field\", \"field\", \"field\", \"field\", \"find\", \"find\", \"find\", \"find\", \"finite\", \"finite\", \"finite\", \"finite\", \"fluctuation\", \"fluid\", \"flux\", \"formation\", \"formation\", \"formula\", \"formula\", \"framework\", \"framework\", \"framework\", \"framework\", \"frequency\", \"frequency\", \"frequency\", \"frequency\", \"function\", \"function\", \"function\", \"function\", \"galaxy\", \"gas\", \"genus\", \"geodesic\", \"geometric\", \"geometric\", \"geometric\", \"geometric\", \"give\", \"give\", \"give\", \"give\", \"gradient\", \"gradient\", \"gradient\", \"gradient\", \"gradient_descent\", \"graph\", \"graph\", \"group\", \"group\", \"group\", \"group\", \"guarantee\", \"guarantee\", \"high\", \"high\", \"high\", \"high\", \"homotopy\", \"human\", \"hyperbolic\", \"image\", \"image\", \"image\", \"image\", \"inequality\", \"inequality\", \"inference\", \"infinite\", \"infinite\", \"information\", \"information\", \"information\", \"information\", \"integer\", \"integer\", \"integrable\", \"integral\", \"integral\", \"integral\", \"integral\", \"interaction\", \"interaction\", \"invariant\", \"invariant\", \"invariant\", \"iteration\", \"iteration\", \"kernel\", \"kernel\", \"kernel\", \"knot\", \"knowledge\", \"knowledge\", \"label\", \"learn\", \"learned\", \"learning\", \"least_squares\", \"light\", \"light\", \"light\", \"linear\", \"linear\", \"linear\", \"linear\", \"low\", \"low\", \"low\", \"low\", \"low_rank\", \"machine_learning\", \"machine_learning\", \"magnetic\", \"magnetic_field\", \"manifold\", \"mass\", \"material\", \"mathbb\", \"matrix\", \"matrix\", \"maximum_likelihood\", \"measurement\", \"measurement\", \"measurement\", \"measurement\", \"method\", \"method\", \"method\", \"method\", \"minimax\", \"minimization\", \"mode\", \"mode\", \"mode\", \"mode\", \"model\", \"model\", \"model\", \"model\", \"molecular\", \"molecular\", \"molecule\", \"multivariate\", \"multivariate\", \"network\", \"network\", \"neural\", \"neural_network\", \"new\", \"new\", \"new\", \"new\", \"noise\", \"noise\", \"noise\", \"noise\", \"non\", \"non\", \"non\", \"non\", \"nonparametric\", \"notion\", \"notion\", \"notion\", \"notion\", \"number\", \"number\", \"number\", \"number\", \"numerical\", \"numerical\", \"numerical\", \"numerical\", \"one\", \"one\", \"one\", \"one\", \"operator\", \"operator\", \"optical\", \"optimal\", \"optimality\", \"optimization\", \"optimization\", \"paper\", \"paper\", \"paper\", \"paper\", \"parameter\", \"parameter\", \"parameter\", \"parameter\", \"particle\", \"performance\", \"performance\", \"phase\", \"phase\", \"phase\", \"phase\", \"photon\", \"planet\", \"point\", \"point\", \"point\", \"point\", \"polynomial\", \"polynomial\", \"posterior\", \"prediction\", \"prediction\", \"prediction\", \"prediction\", \"present\", \"present\", \"present\", \"present\", \"pressure\", \"prime\", \"prime\", \"probability\", \"probability\", \"probability\", \"probability\", \"problem\", \"problem\", \"problem\", \"problem\", \"process\", \"process\", \"process\", \"process\", \"proof\", \"property\", \"property\", \"property\", \"property\", \"propose\", \"propose\", \"propose\", \"propose\", \"proposed\", \"proposed\", \"proposed\", \"proposed\", \"prove\", \"prove\", \"quantum\", \"quantum\", \"query\", \"quotient\", \"random\", \"random\", \"random\", \"random\", \"randomized\", \"rate\", \"rate\", \"rate\", \"rate\", \"rational\", \"ray\", \"real_world\", \"recovery\", \"regression\", \"regression\", \"regret\", \"research\", \"research\", \"result\", \"result\", \"result\", \"result\", \"robot\", \"sample\", \"sample\", \"sample\", \"sample\", \"sampling\", \"sampling\", \"scheme\", \"scheme\", \"scheme\", \"scheme\", \"set\", \"set\", \"set\", \"set\", \"show\", \"show\", \"show\", \"show\", \"singular\", \"singularity\", \"singularity\", \"social\", \"software\", \"solution\", \"solution\", \"solution\", \"solution\", \"solver\", \"space\", \"space\", \"space\", \"space\", \"sparse\", \"sparse\", \"spectrum\", \"spectrum\", \"spectrum\", \"spectrum\", \"spin\", \"star\", \"state\", \"state\", \"state\", \"state\", \"state_art\", \"state_art\", \"stochastic\", \"stochastic_gradient\", \"structure\", \"structure\", \"structure\", \"structure\", \"study\", \"study\", \"study\", \"study\", \"subgroup\", \"superconducting\", \"surface\", \"surface\", \"symplectic\", \"system\", \"system\", \"system\", \"system\", \"task\", \"temperature\", \"theorem\", \"theorem\", \"theory\", \"theory\", \"theory\", \"theory\", \"thermal\", \"time\", \"time\", \"time\", \"time\", \"train\", \"trained\", \"training\", \"transition\", \"transition\", \"transition\", \"transition\", \"triangle\", \"two\", \"two\", \"two\", \"two\", \"type\", \"type\", \"type\", \"type\", \"unitary\", \"use\", \"use\", \"use\", \"use\", \"used\", \"used\", \"used\", \"used\", \"user\", \"using\", \"using\", \"using\", \"using\", \"variance\", \"velocity\", \"vertex\", \"visual\", \"wave\", \"wireless\", \"work\", \"work\", \"work\", \"work\"]}, \"R\": 30, \"lambda.step\": 0.01, \"plot.opts\": {\"xlab\": \"PC1\", \"ylab\": \"PC2\"}, \"topic.order\": [3, 2, 4, 1]};\n",
              "\n",
              "function LDAvis_load_lib(url, callback){\n",
              "  var s = document.createElement('script');\n",
              "  s.src = url;\n",
              "  s.async = true;\n",
              "  s.onreadystatechange = s.onload = callback;\n",
              "  s.onerror = function(){console.warn(\"failed to load library \" + url);};\n",
              "  document.getElementsByTagName(\"head\")[0].appendChild(s);\n",
              "}\n",
              "\n",
              "if(typeof(LDAvis) !== \"undefined\"){\n",
              "   // already loaded: just create the visualization\n",
              "   !function(LDAvis){\n",
              "       new LDAvis(\"#\" + \"ldavis_el701403364745495846881919735\", ldavis_el701403364745495846881919735_data);\n",
              "   }(LDAvis);\n",
              "}else if(typeof define === \"function\" && define.amd){\n",
              "   // require.js is available: use it to load d3/LDAvis\n",
              "   require.config({paths: {d3: \"https://d3js.org/d3.v5\"}});\n",
              "   require([\"d3\"], function(d3){\n",
              "      window.d3 = d3;\n",
              "      LDAvis_load_lib(\"https://cdn.jsdelivr.net/gh/bmabey/pyLDAvis@3.3.1/pyLDAvis/js/ldavis.v3.0.0.js\", function(){\n",
              "        new LDAvis(\"#\" + \"ldavis_el701403364745495846881919735\", ldavis_el701403364745495846881919735_data);\n",
              "      });\n",
              "    });\n",
              "}else{\n",
              "    // require.js not available: dynamically load d3 & LDAvis\n",
              "    LDAvis_load_lib(\"https://d3js.org/d3.v5.js\", function(){\n",
              "         LDAvis_load_lib(\"https://cdn.jsdelivr.net/gh/bmabey/pyLDAvis@3.3.1/pyLDAvis/js/ldavis.v3.0.0.js\", function(){\n",
              "                 new LDAvis(\"#\" + \"ldavis_el701403364745495846881919735\", ldavis_el701403364745495846881919735_data);\n",
              "            })\n",
              "         });\n",
              "}\n",
              "</script>"
            ],
            "text/plain": [
              "PreparedData(topic_coordinates=              x         y  topics  cluster       Freq\n",
              "topic                                                \n",
              "2      0.151845  0.091171       1        1  37.191056\n",
              "1      0.080592 -0.202228       2        1  24.005077\n",
              "3     -0.002117  0.122841       3        1  23.114165\n",
              "0     -0.230321 -0.011785       4        1  15.689702, topic_info=          Term          Freq         Total Category  logprob  loglift\n",
              "13   algorithm  11907.000000  11907.000000  Default  30.0000  30.0000\n",
              "133    network  12048.000000  12048.000000  Default  29.0000  29.0000\n",
              "87     problem  12972.000000  12972.000000  Default  28.0000  28.0000\n",
              "71      method  15791.000000  15791.000000  Default  27.0000  27.0000\n",
              "131   learning   6681.000000   6681.000000  Default  26.0000  26.0000\n",
              "..         ...           ...           ...      ...      ...      ...\n",
              "107        two   2225.817590  10228.864313   Topic4  -5.1670   0.3271\n",
              "100      study   1995.301184   8721.618508   Topic4  -5.2764   0.3772\n",
              "87     problem   2166.710857  12972.045826   Topic4  -5.1939   0.0626\n",
              "78         non   1722.342341   5509.829630   Topic4  -5.4235   0.6893\n",
              "666  structure   1678.930965   6334.409581   Topic4  -5.4490   0.5243\n",
              "\n",
              "[309 rows x 6 columns], token_table=      Topic      Freq      Term\n",
              "term                           \n",
              "1474      1  0.078808  Bayesian\n",
              "1474      3  0.921445  Bayesian\n",
              "1265      1  0.999631      Deep\n",
              "1507      3  0.998539  Gaussian\n",
              "1507      4  0.001266  Gaussian\n",
              "...     ...       ...       ...\n",
              "2731      3  0.997884  wireless\n",
              "387       1  0.554137      work\n",
              "387       2  0.115745      work\n",
              "387       3  0.198822      work\n",
              "387       4  0.131377      work\n",
              "\n",
              "[544 rows x 3 columns], R=30, lambda_step=0.01, plot_opts={'xlab': 'PC1', 'ylab': 'PC2'}, topic_order=[3, 2, 4, 1])"
            ]
          },
          "execution_count": 49,
          "metadata": {},
          "output_type": "execute_result"
        }
      ],
      "source": [
        "pyLDAvis.enable_notebook()\n",
        "vis = pyLDAvis.gensim_models.prepare(lda_model, corpus_vectorized, dictionary)\n",
        "vis"
      ]
    },
    {
      "cell_type": "markdown",
      "metadata": {
        "id": "I8W2YMidJSlL"
      },
      "source": [
        "Kao što vidimo komentar iz prethodnog poglavlja je potvrđen vizualizacijom. Teme \"statistike\" i \"računarstva\" dosta su bliske, dok su teme \"matematike\" i \"fizike\" udaljenije od ostalih tj. za njih se može reći da su doista distinktne."
      ]
    },
    {
      "cell_type": "markdown",
      "metadata": {
        "id": "qd2gNhCNKrc9"
      },
      "source": [
        "##Zaključak"
      ]
    },
    {
      "cell_type": "markdown",
      "metadata": {
        "id": "D1XcCPGaKtXw"
      },
      "source": [
        "U ovome radu izložili smo povijest razvoja tematskih modela, teoriju iza njih, te smo ih primijenili na izabranom podatkovnom skupu kako bi pokazali njihovu funkcionalnost. Pri tome smo primijenili znanja iz područja kao što su Linearne algebre, Statistike, Strojnog učenja te Obrade prirodnog jezika. Pokazali smo konkretno kako funkcioniraju LSI i LDA modeli te kako ih implementirati u aktualnim Python tehnologijama. \n",
        "\n",
        "Bitno je još i prokomentirati važnost tematskih modela naspram tematske klasifikacije. Iako je klasifikacija bolji izbor za projekte sa većim budžetom i duljim rokom, tako su tematski modeli jednostavniji za implementirati i dostupniji većini istraživača koji trebaju obraditi gomilu neklasificiranih podataka bez kvalitetnog skupa podataka za treniranje.\n"
      ]
    },
    {
      "cell_type": "markdown",
      "metadata": {
        "id": "roOH1sA4EJEt"
      },
      "source": [
        "##Literatura\n"
      ]
    },
    {
      "cell_type": "markdown",
      "metadata": {
        "id": "hsc6QgXHLvOn"
      },
      "source": [
        "*   [Plotly Python dokumentacija](https://plotly.com/python/)\n",
        "*   [Pandas dokumentacija](https://pandas.pydata.org/pandas-docs/stable/user_guide/index.html)\n",
        "*   [Topic Modeling for Research Articles](https://www.kaggle.com/blessondensil294/topic-modeling-for-research-articles)\n",
        "*   [Probabilistic Latent Semantic Analysis](https://arxiv.org/abs/1301.6705)\n",
        "*   [Latent semantic indexing: A probabilistic analysis](https://meiji.elsevierpure.com/en/publications/latent-semantic-indexing-a-probabilistic-analysis)\n",
        "*   [An intro to topic models for text analysis](https://medium.com/pew-research-center-decoded/an-intro-to-topic-models-for-text-analysis-de5aa3e72bdb)\n",
        "*   [Topic model - Wiki](https://en.wikipedia.org/wiki/Topic_model)\n",
        "*   [Computer information retrieval using latent semantic structure](https://patft.uspto.gov/netacgi/nph-Parser?Sect1=PTO1&Sect2=HITOFF&d=PALL&p=1&u=%2Fnetahtml%2FPTO%2Fsrchnum.htm&r=1&f=G&l=50&s1=4839853.PN.&OS=PN/4839853&RS=PN/4839853)\n",
        "*   [Latent semantic analysis - Wiki](https://en.wikipedia.org/wiki/Latent_semantic_analysis)\n",
        "*   [Hierarchical Latent Tree Analysis for Topic Detection](https://web.archive.org/web/20190901175618/http://www.cse.ust.hk/~lzhang/paper/pspdf/liu-n-ecml14.pdf)\n",
        "*   [Latent Dirichlet Allocation](https://web.archive.org/web/20120501152722/http://jmlr.csail.mit.edu/papers/v3/blei03a.html)\n",
        "*   [Latent Dirichlet Allocation - Wiki](https://en.wikipedia.org/wiki/Latent_Dirichlet_allocation)\n",
        "*   [Bag-of-words model - Wiki](https://en.wikipedia.org/wiki/Bag-of-words_model)\n",
        "*   [Gensim Dokumentacija](https://radimrehurek.com/gensim/auto_examples/index.html)\n",
        "*   [Gensim API Reference](https://radimrehurek.com/gensim/apiref.html)\n",
        "*   [Gramatika - Uvod](https://gramatika.hr/pravilo/uvod/111/)\n",
        "*   [Topic Modeling with Gensim (Python)](https://www.machinelearningplus.com/nlp/topic-modeling-gensim-python/#4whatdoesldado)"
      ]
    }
  ],
  "metadata": {
    "colab": {
      "collapsed_sections": [],
      "name": "topic_model_projekt.ipynb",
      "provenance": []
    },
    "interpreter": {
      "hash": "916dbcbb3f70747c44a77c7bcd40155683ae19c65e1c03b4aa3499c5328201f1"
    },
    "kernelspec": {
      "display_name": "Python 3.10.4 64-bit",
      "language": "python",
      "name": "python3"
    },
    "language_info": {
      "name": "python",
      "version": "3.10.4"
    }
  },
  "nbformat": 4,
  "nbformat_minor": 0
}
